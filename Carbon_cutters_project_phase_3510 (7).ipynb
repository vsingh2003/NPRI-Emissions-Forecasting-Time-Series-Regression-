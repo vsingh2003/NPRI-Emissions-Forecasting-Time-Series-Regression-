{
  "nbformat": 4,
  "nbformat_minor": 0,
  "metadata": {
    "colab": {
      "provenance": []
    },
    "kernelspec": {
      "name": "python3",
      "display_name": "Python 3"
    },
    "language_info": {
      "name": "python"
    }
  },
  "cells": [
    {
      "cell_type": "markdown",
      "source": [
        "**PROJECT PHASE 2**"
      ],
      "metadata": {
        "id": "x1oqBdhDS-z1"
      }
    },
    {
      "cell_type": "markdown",
      "source": [
        "**Regression**"
      ],
      "metadata": {
        "id": "S0SBYb5X5TPq"
      }
    },
    {
      "cell_type": "markdown",
      "source": [
        "TEAM- Carbon Cutters\n",
        "\n",
        "TEAM MEMBERS- Parminder Kaur , Vishaldeep Singh , Jaspinderjit Singh"
      ],
      "metadata": {
        "id": "ij2cMzjc5SEX"
      }
    },
    {
      "cell_type": "markdown",
      "source": [
        "Classification"
      ],
      "metadata": {
        "id": "5QGceeVhTDIF"
      }
    },
    {
      "cell_type": "markdown",
      "source": [
        "Machine Learning problem  2:\n",
        "\n",
        "Has the federal carbon pricing system (started in 2019) decreased emissions of nitrogen oxides and carbon monoxide (substances releases from burning fossil fuels)? And if so, what are the predicted decreases in the release of these substances as the carbon pricing system gradually increases in price?\n",
        "\n",
        "\n",
        "\n",
        "\n",
        "\n",
        "Project Description: Impact of Carbon Pricing on Emissions\n",
        "\n",
        "\n",
        "This project analyzes whether Canada’s federal carbon pricing system (2019) has reduced nitrogen oxides (NOx) and carbon monoxide (CO) emissions from fossil fuels. Using historical data, we assess its effectiveness and predict future emission reductions as carbon prices increase. The findings will provide insights for policymakers and environmental planning.\n",
        "\n"
      ],
      "metadata": {
        "id": "imwF5iV_TGoC"
      }
    },
    {
      "cell_type": "markdown",
      "source": [
        "importing the libraries"
      ],
      "metadata": {
        "id": "jbUEOfseNUmp"
      }
    },
    {
      "cell_type": "code",
      "execution_count": null,
      "metadata": {
        "colab": {
          "base_uri": "https://localhost:8080/"
        },
        "id": "QdsLbvtIMSS0",
        "outputId": "b4f6d4bb-b589-48e2-c0a0-39c35c6d3486"
      },
      "outputs": [
        {
          "output_type": "stream",
          "name": "stderr",
          "text": [
            "<ipython-input-5-f44c8f504885>:12: DtypeWarning: Columns (2) have mixed types. Specify dtype option on import or set low_memory=False.\n",
            "  df = pd.read_csv('/content/NPRI_2000-2022 (1).csv', encoding='latin-1')\n"
          ]
        }
      ],
      "source": [
        "import pandas as pd\n",
        "import numpy as np\n",
        "import matplotlib.pyplot as plt\n",
        "import seaborn as sns\n",
        "from sklearn.model_selection import train_test_split\n",
        "from sklearn.preprocessing import LabelEncoder\n",
        "from sklearn.ensemble import RandomForestClassifier\n",
        "from sklearn.metrics import classification_report, confusion_matrix\n",
        "\n",
        "\n",
        "#Loading playoffs data\n",
        "df = pd.read_csv('/content/NPRI_2000-2022 (1).csv', encoding='latin-1')\n",
        "#Setting up notebook so that all columns are displayed\n",
        "pd.set_option('display.max_columns', None)"
      ]
    },
    {
      "cell_type": "code",
      "source": [
        "df.head(7) #display the dataset"
      ],
      "metadata": {
        "id": "FsPZwfzmM2fX",
        "colab": {
          "base_uri": "https://localhost:8080/",
          "height": 497
        },
        "outputId": "27de8cdd-95d7-4a4f-d48c-98c6c8f4487d"
      },
      "execution_count": null,
      "outputs": [
        {
          "output_type": "execute_result",
          "data": {
            "text/plain": [
              "   Reporting_Year / Année  NPRI_ID / No_INRP Number of employees  \\\n",
              "0                    2000                  1                 440   \n",
              "1                    2000                  1                 440   \n",
              "2                    2000                  1                 440   \n",
              "3                    2000                  1                 440   \n",
              "4                    2000                  1                 440   \n",
              "5                    2000                  1                 440   \n",
              "6                    2000                  1                 440   \n",
              "\n",
              "  Company_Name / Dénomination_sociale_de_l'entreprise  \\\n",
              "0             Alberta-Pacific Forest Industries Inc.    \n",
              "1             Alberta-Pacific Forest Industries Inc.    \n",
              "2             Alberta-Pacific Forest Industries Inc.    \n",
              "3             Alberta-Pacific Forest Industries Inc.    \n",
              "4             Alberta-Pacific Forest Industries Inc.    \n",
              "5             Alberta-Pacific Forest Industries Inc.    \n",
              "6             Alberta-Pacific Forest Industries Inc.    \n",
              "\n",
              "  Facility_Name / Installation  NAICS / Code_SCIAN  \\\n",
              "0                      (blank)              322112   \n",
              "1                      (blank)              322112   \n",
              "2                      (blank)              322112   \n",
              "3                      (blank)              322112   \n",
              "4                      (blank)              322112   \n",
              "5                      (blank)              322112   \n",
              "6                      (blank)              322112   \n",
              "\n",
              "  NAICS Title / Titre Code_SCIAN PROVINCE                 City   Latitude  \\\n",
              "0            Chemical pulp mills       AB  County of Athabasca  54.923116   \n",
              "1            Chemical pulp mills       AB  County of Athabasca  54.923116   \n",
              "2            Chemical pulp mills       AB  County of Athabasca  54.923116   \n",
              "3            Chemical pulp mills       AB  County of Athabasca  54.923116   \n",
              "4            Chemical pulp mills       AB  County of Athabasca  54.923116   \n",
              "5            Chemical pulp mills       AB  County of Athabasca  54.923116   \n",
              "6            Chemical pulp mills       AB  County of Athabasca  54.923116   \n",
              "\n",
              "    Longitude CAS_Number / No_CAS  \\\n",
              "0 -112.861867          10049-04-4   \n",
              "1 -112.861867             67-56-1   \n",
              "2 -112.861867             67-66-3   \n",
              "3 -112.861867             75-07-0   \n",
              "4 -112.861867           7647-01-0   \n",
              "5 -112.861867           7664-38-2   \n",
              "6 -112.861867           7664-93-9   \n",
              "\n",
              "  Substance Name (English) / Nom de substance (Anglais) Units / Unités  \\\n",
              "0                                   Chlorine dioxide            tonnes   \n",
              "1                                           Methanol            tonnes   \n",
              "2                                         Chloroform            tonnes   \n",
              "3                                       Acetaldehyde            tonnes   \n",
              "4                                  Hydrochloric acid            tonnes   \n",
              "5                                    Phosphoric acid            tonnes   \n",
              "6                                     Sulphuric acid            tonnes   \n",
              "\n",
              "  Estimation_Method / Méthode_destimation  Release to Air - Fugitive  \\\n",
              "0     M - Monitoring or Direct Measurement                        NaN   \n",
              "1                      E - Emission Factor                        NaN   \n",
              "2     M - Monitoring or Direct Measurement                        NaN   \n",
              "3                      E - Emission Factor                        NaN   \n",
              "4     M - Monitoring or Direct Measurement                        NaN   \n",
              "5     M - Monitoring or Direct Measurement                        NaN   \n",
              "6     M - Monitoring or Direct Measurement                        NaN   \n",
              "\n",
              "   Release to Air - Other Non-Point   Release to Air - Road dust    \\\n",
              "0                                NaN                           NaN   \n",
              "1                                NaN                           NaN   \n",
              "2                                NaN                           NaN   \n",
              "3                                NaN                           NaN   \n",
              "4                                NaN                           NaN   \n",
              "5                                NaN                           NaN   \n",
              "6                                NaN                           NaN   \n",
              "\n",
              "   Release to Air - Spills   Release to Air - Stack / Point    \\\n",
              "0                       NaN                             5.200   \n",
              "1                       NaN                           113.000   \n",
              "2                       NaN                               NaN   \n",
              "3                       NaN                             7.670   \n",
              "4                       NaN                             0.665   \n",
              "5                       NaN                               NaN   \n",
              "6                       NaN                               NaN   \n",
              "\n",
              "   Release to Air - Storage / Handling   Releases to Land - Leaks  \\\n",
              "0                                   NaN                       NaN   \n",
              "1                                   NaN                       NaN   \n",
              "2                                   NaN                       NaN   \n",
              "3                                   NaN                       NaN   \n",
              "4                                   NaN                       NaN   \n",
              "5                                   NaN                       NaN   \n",
              "6                                   NaN                       NaN   \n",
              "\n",
              "   Releases to Land - Other   Releases to Land - Spills   \\\n",
              "0                        NaN                         NaN   \n",
              "1                        NaN                         NaN   \n",
              "2                        NaN                         NaN   \n",
              "3                        NaN                         NaN   \n",
              "4                        NaN                         NaN   \n",
              "5                        NaN                         NaN   \n",
              "6                        NaN                         NaN   \n",
              "\n",
              "   Releases to Water Bodies - Direct Discharges   \\\n",
              "0                                            NaN   \n",
              "1                                            NaN   \n",
              "2                                            0.0   \n",
              "3                                            NaN   \n",
              "4                                            NaN   \n",
              "5                                            0.0   \n",
              "6                                            0.0   \n",
              "\n",
              "   Releases to Water Bodies - Leaks  Releases to Water Bodies - Spills   \\\n",
              "0                               NaN                                 NaN   \n",
              "1                               NaN                                 NaN   \n",
              "2                               NaN                                 NaN   \n",
              "3                               NaN                                 NaN   \n",
              "4                               NaN                                 NaN   \n",
              "5                               NaN                                 NaN   \n",
              "6                               NaN                                 NaN   \n",
              "\n",
              "   Sum of release to all media (<1tonne)  \n",
              "0                                    NaN  \n",
              "1                                    NaN  \n",
              "2                                    NaN  \n",
              "3                                    NaN  \n",
              "4                                    NaN  \n",
              "5                                    NaN  \n",
              "6                                    NaN  "
            ],
            "text/html": [
              "\n",
              "  <div id=\"df-a438b0b8-7692-415a-9b4b-3c744f207cd3\" class=\"colab-df-container\">\n",
              "    <div>\n",
              "<style scoped>\n",
              "    .dataframe tbody tr th:only-of-type {\n",
              "        vertical-align: middle;\n",
              "    }\n",
              "\n",
              "    .dataframe tbody tr th {\n",
              "        vertical-align: top;\n",
              "    }\n",
              "\n",
              "    .dataframe thead th {\n",
              "        text-align: right;\n",
              "    }\n",
              "</style>\n",
              "<table border=\"1\" class=\"dataframe\">\n",
              "  <thead>\n",
              "    <tr style=\"text-align: right;\">\n",
              "      <th></th>\n",
              "      <th>Reporting_Year / Année</th>\n",
              "      <th>NPRI_ID / No_INRP</th>\n",
              "      <th>Number of employees</th>\n",
              "      <th>Company_Name / Dénomination_sociale_de_l'entreprise</th>\n",
              "      <th>Facility_Name / Installation</th>\n",
              "      <th>NAICS / Code_SCIAN</th>\n",
              "      <th>NAICS Title / Titre Code_SCIAN</th>\n",
              "      <th>PROVINCE</th>\n",
              "      <th>City</th>\n",
              "      <th>Latitude</th>\n",
              "      <th>Longitude</th>\n",
              "      <th>CAS_Number / No_CAS</th>\n",
              "      <th>Substance Name (English) / Nom de substance (Anglais)</th>\n",
              "      <th>Units / Unités</th>\n",
              "      <th>Estimation_Method / Méthode_destimation</th>\n",
              "      <th>Release to Air - Fugitive</th>\n",
              "      <th>Release to Air - Other Non-Point</th>\n",
              "      <th>Release to Air - Road dust</th>\n",
              "      <th>Release to Air - Spills</th>\n",
              "      <th>Release to Air - Stack / Point</th>\n",
              "      <th>Release to Air - Storage / Handling</th>\n",
              "      <th>Releases to Land - Leaks</th>\n",
              "      <th>Releases to Land - Other</th>\n",
              "      <th>Releases to Land - Spills</th>\n",
              "      <th>Releases to Water Bodies - Direct Discharges</th>\n",
              "      <th>Releases to Water Bodies - Leaks</th>\n",
              "      <th>Releases to Water Bodies - Spills</th>\n",
              "      <th>Sum of release to all media (&lt;1tonne)</th>\n",
              "    </tr>\n",
              "  </thead>\n",
              "  <tbody>\n",
              "    <tr>\n",
              "      <th>0</th>\n",
              "      <td>2000</td>\n",
              "      <td>1</td>\n",
              "      <td>440</td>\n",
              "      <td>Alberta-Pacific Forest Industries Inc.</td>\n",
              "      <td>(blank)</td>\n",
              "      <td>322112</td>\n",
              "      <td>Chemical pulp mills</td>\n",
              "      <td>AB</td>\n",
              "      <td>County of Athabasca</td>\n",
              "      <td>54.923116</td>\n",
              "      <td>-112.861867</td>\n",
              "      <td>10049-04-4</td>\n",
              "      <td>Chlorine dioxide</td>\n",
              "      <td>tonnes</td>\n",
              "      <td>M - Monitoring or Direct Measurement</td>\n",
              "      <td>NaN</td>\n",
              "      <td>NaN</td>\n",
              "      <td>NaN</td>\n",
              "      <td>NaN</td>\n",
              "      <td>5.200</td>\n",
              "      <td>NaN</td>\n",
              "      <td>NaN</td>\n",
              "      <td>NaN</td>\n",
              "      <td>NaN</td>\n",
              "      <td>NaN</td>\n",
              "      <td>NaN</td>\n",
              "      <td>NaN</td>\n",
              "      <td>NaN</td>\n",
              "    </tr>\n",
              "    <tr>\n",
              "      <th>1</th>\n",
              "      <td>2000</td>\n",
              "      <td>1</td>\n",
              "      <td>440</td>\n",
              "      <td>Alberta-Pacific Forest Industries Inc.</td>\n",
              "      <td>(blank)</td>\n",
              "      <td>322112</td>\n",
              "      <td>Chemical pulp mills</td>\n",
              "      <td>AB</td>\n",
              "      <td>County of Athabasca</td>\n",
              "      <td>54.923116</td>\n",
              "      <td>-112.861867</td>\n",
              "      <td>67-56-1</td>\n",
              "      <td>Methanol</td>\n",
              "      <td>tonnes</td>\n",
              "      <td>E - Emission Factor</td>\n",
              "      <td>NaN</td>\n",
              "      <td>NaN</td>\n",
              "      <td>NaN</td>\n",
              "      <td>NaN</td>\n",
              "      <td>113.000</td>\n",
              "      <td>NaN</td>\n",
              "      <td>NaN</td>\n",
              "      <td>NaN</td>\n",
              "      <td>NaN</td>\n",
              "      <td>NaN</td>\n",
              "      <td>NaN</td>\n",
              "      <td>NaN</td>\n",
              "      <td>NaN</td>\n",
              "    </tr>\n",
              "    <tr>\n",
              "      <th>2</th>\n",
              "      <td>2000</td>\n",
              "      <td>1</td>\n",
              "      <td>440</td>\n",
              "      <td>Alberta-Pacific Forest Industries Inc.</td>\n",
              "      <td>(blank)</td>\n",
              "      <td>322112</td>\n",
              "      <td>Chemical pulp mills</td>\n",
              "      <td>AB</td>\n",
              "      <td>County of Athabasca</td>\n",
              "      <td>54.923116</td>\n",
              "      <td>-112.861867</td>\n",
              "      <td>67-66-3</td>\n",
              "      <td>Chloroform</td>\n",
              "      <td>tonnes</td>\n",
              "      <td>M - Monitoring or Direct Measurement</td>\n",
              "      <td>NaN</td>\n",
              "      <td>NaN</td>\n",
              "      <td>NaN</td>\n",
              "      <td>NaN</td>\n",
              "      <td>NaN</td>\n",
              "      <td>NaN</td>\n",
              "      <td>NaN</td>\n",
              "      <td>NaN</td>\n",
              "      <td>NaN</td>\n",
              "      <td>0.0</td>\n",
              "      <td>NaN</td>\n",
              "      <td>NaN</td>\n",
              "      <td>NaN</td>\n",
              "    </tr>\n",
              "    <tr>\n",
              "      <th>3</th>\n",
              "      <td>2000</td>\n",
              "      <td>1</td>\n",
              "      <td>440</td>\n",
              "      <td>Alberta-Pacific Forest Industries Inc.</td>\n",
              "      <td>(blank)</td>\n",
              "      <td>322112</td>\n",
              "      <td>Chemical pulp mills</td>\n",
              "      <td>AB</td>\n",
              "      <td>County of Athabasca</td>\n",
              "      <td>54.923116</td>\n",
              "      <td>-112.861867</td>\n",
              "      <td>75-07-0</td>\n",
              "      <td>Acetaldehyde</td>\n",
              "      <td>tonnes</td>\n",
              "      <td>E - Emission Factor</td>\n",
              "      <td>NaN</td>\n",
              "      <td>NaN</td>\n",
              "      <td>NaN</td>\n",
              "      <td>NaN</td>\n",
              "      <td>7.670</td>\n",
              "      <td>NaN</td>\n",
              "      <td>NaN</td>\n",
              "      <td>NaN</td>\n",
              "      <td>NaN</td>\n",
              "      <td>NaN</td>\n",
              "      <td>NaN</td>\n",
              "      <td>NaN</td>\n",
              "      <td>NaN</td>\n",
              "    </tr>\n",
              "    <tr>\n",
              "      <th>4</th>\n",
              "      <td>2000</td>\n",
              "      <td>1</td>\n",
              "      <td>440</td>\n",
              "      <td>Alberta-Pacific Forest Industries Inc.</td>\n",
              "      <td>(blank)</td>\n",
              "      <td>322112</td>\n",
              "      <td>Chemical pulp mills</td>\n",
              "      <td>AB</td>\n",
              "      <td>County of Athabasca</td>\n",
              "      <td>54.923116</td>\n",
              "      <td>-112.861867</td>\n",
              "      <td>7647-01-0</td>\n",
              "      <td>Hydrochloric acid</td>\n",
              "      <td>tonnes</td>\n",
              "      <td>M - Monitoring or Direct Measurement</td>\n",
              "      <td>NaN</td>\n",
              "      <td>NaN</td>\n",
              "      <td>NaN</td>\n",
              "      <td>NaN</td>\n",
              "      <td>0.665</td>\n",
              "      <td>NaN</td>\n",
              "      <td>NaN</td>\n",
              "      <td>NaN</td>\n",
              "      <td>NaN</td>\n",
              "      <td>NaN</td>\n",
              "      <td>NaN</td>\n",
              "      <td>NaN</td>\n",
              "      <td>NaN</td>\n",
              "    </tr>\n",
              "    <tr>\n",
              "      <th>5</th>\n",
              "      <td>2000</td>\n",
              "      <td>1</td>\n",
              "      <td>440</td>\n",
              "      <td>Alberta-Pacific Forest Industries Inc.</td>\n",
              "      <td>(blank)</td>\n",
              "      <td>322112</td>\n",
              "      <td>Chemical pulp mills</td>\n",
              "      <td>AB</td>\n",
              "      <td>County of Athabasca</td>\n",
              "      <td>54.923116</td>\n",
              "      <td>-112.861867</td>\n",
              "      <td>7664-38-2</td>\n",
              "      <td>Phosphoric acid</td>\n",
              "      <td>tonnes</td>\n",
              "      <td>M - Monitoring or Direct Measurement</td>\n",
              "      <td>NaN</td>\n",
              "      <td>NaN</td>\n",
              "      <td>NaN</td>\n",
              "      <td>NaN</td>\n",
              "      <td>NaN</td>\n",
              "      <td>NaN</td>\n",
              "      <td>NaN</td>\n",
              "      <td>NaN</td>\n",
              "      <td>NaN</td>\n",
              "      <td>0.0</td>\n",
              "      <td>NaN</td>\n",
              "      <td>NaN</td>\n",
              "      <td>NaN</td>\n",
              "    </tr>\n",
              "    <tr>\n",
              "      <th>6</th>\n",
              "      <td>2000</td>\n",
              "      <td>1</td>\n",
              "      <td>440</td>\n",
              "      <td>Alberta-Pacific Forest Industries Inc.</td>\n",
              "      <td>(blank)</td>\n",
              "      <td>322112</td>\n",
              "      <td>Chemical pulp mills</td>\n",
              "      <td>AB</td>\n",
              "      <td>County of Athabasca</td>\n",
              "      <td>54.923116</td>\n",
              "      <td>-112.861867</td>\n",
              "      <td>7664-93-9</td>\n",
              "      <td>Sulphuric acid</td>\n",
              "      <td>tonnes</td>\n",
              "      <td>M - Monitoring or Direct Measurement</td>\n",
              "      <td>NaN</td>\n",
              "      <td>NaN</td>\n",
              "      <td>NaN</td>\n",
              "      <td>NaN</td>\n",
              "      <td>NaN</td>\n",
              "      <td>NaN</td>\n",
              "      <td>NaN</td>\n",
              "      <td>NaN</td>\n",
              "      <td>NaN</td>\n",
              "      <td>0.0</td>\n",
              "      <td>NaN</td>\n",
              "      <td>NaN</td>\n",
              "      <td>NaN</td>\n",
              "    </tr>\n",
              "  </tbody>\n",
              "</table>\n",
              "</div>\n",
              "    <div class=\"colab-df-buttons\">\n",
              "\n",
              "  <div class=\"colab-df-container\">\n",
              "    <button class=\"colab-df-convert\" onclick=\"convertToInteractive('df-a438b0b8-7692-415a-9b4b-3c744f207cd3')\"\n",
              "            title=\"Convert this dataframe to an interactive table.\"\n",
              "            style=\"display:none;\">\n",
              "\n",
              "  <svg xmlns=\"http://www.w3.org/2000/svg\" height=\"24px\" viewBox=\"0 -960 960 960\">\n",
              "    <path d=\"M120-120v-720h720v720H120Zm60-500h600v-160H180v160Zm220 220h160v-160H400v160Zm0 220h160v-160H400v160ZM180-400h160v-160H180v160Zm440 0h160v-160H620v160ZM180-180h160v-160H180v160Zm440 0h160v-160H620v160Z\"/>\n",
              "  </svg>\n",
              "    </button>\n",
              "\n",
              "  <style>\n",
              "    .colab-df-container {\n",
              "      display:flex;\n",
              "      gap: 12px;\n",
              "    }\n",
              "\n",
              "    .colab-df-convert {\n",
              "      background-color: #E8F0FE;\n",
              "      border: none;\n",
              "      border-radius: 50%;\n",
              "      cursor: pointer;\n",
              "      display: none;\n",
              "      fill: #1967D2;\n",
              "      height: 32px;\n",
              "      padding: 0 0 0 0;\n",
              "      width: 32px;\n",
              "    }\n",
              "\n",
              "    .colab-df-convert:hover {\n",
              "      background-color: #E2EBFA;\n",
              "      box-shadow: 0px 1px 2px rgba(60, 64, 67, 0.3), 0px 1px 3px 1px rgba(60, 64, 67, 0.15);\n",
              "      fill: #174EA6;\n",
              "    }\n",
              "\n",
              "    .colab-df-buttons div {\n",
              "      margin-bottom: 4px;\n",
              "    }\n",
              "\n",
              "    [theme=dark] .colab-df-convert {\n",
              "      background-color: #3B4455;\n",
              "      fill: #D2E3FC;\n",
              "    }\n",
              "\n",
              "    [theme=dark] .colab-df-convert:hover {\n",
              "      background-color: #434B5C;\n",
              "      box-shadow: 0px 1px 3px 1px rgba(0, 0, 0, 0.15);\n",
              "      filter: drop-shadow(0px 1px 2px rgba(0, 0, 0, 0.3));\n",
              "      fill: #FFFFFF;\n",
              "    }\n",
              "  </style>\n",
              "\n",
              "    <script>\n",
              "      const buttonEl =\n",
              "        document.querySelector('#df-a438b0b8-7692-415a-9b4b-3c744f207cd3 button.colab-df-convert');\n",
              "      buttonEl.style.display =\n",
              "        google.colab.kernel.accessAllowed ? 'block' : 'none';\n",
              "\n",
              "      async function convertToInteractive(key) {\n",
              "        const element = document.querySelector('#df-a438b0b8-7692-415a-9b4b-3c744f207cd3');\n",
              "        const dataTable =\n",
              "          await google.colab.kernel.invokeFunction('convertToInteractive',\n",
              "                                                    [key], {});\n",
              "        if (!dataTable) return;\n",
              "\n",
              "        const docLinkHtml = 'Like what you see? Visit the ' +\n",
              "          '<a target=\"_blank\" href=https://colab.research.google.com/notebooks/data_table.ipynb>data table notebook</a>'\n",
              "          + ' to learn more about interactive tables.';\n",
              "        element.innerHTML = '';\n",
              "        dataTable['output_type'] = 'display_data';\n",
              "        await google.colab.output.renderOutput(dataTable, element);\n",
              "        const docLink = document.createElement('div');\n",
              "        docLink.innerHTML = docLinkHtml;\n",
              "        element.appendChild(docLink);\n",
              "      }\n",
              "    </script>\n",
              "  </div>\n",
              "\n",
              "\n",
              "<div id=\"df-37839789-7fbe-46d7-a0fd-34e7311bab4e\">\n",
              "  <button class=\"colab-df-quickchart\" onclick=\"quickchart('df-37839789-7fbe-46d7-a0fd-34e7311bab4e')\"\n",
              "            title=\"Suggest charts\"\n",
              "            style=\"display:none;\">\n",
              "\n",
              "<svg xmlns=\"http://www.w3.org/2000/svg\" height=\"24px\"viewBox=\"0 0 24 24\"\n",
              "     width=\"24px\">\n",
              "    <g>\n",
              "        <path d=\"M19 3H5c-1.1 0-2 .9-2 2v14c0 1.1.9 2 2 2h14c1.1 0 2-.9 2-2V5c0-1.1-.9-2-2-2zM9 17H7v-7h2v7zm4 0h-2V7h2v10zm4 0h-2v-4h2v4z\"/>\n",
              "    </g>\n",
              "</svg>\n",
              "  </button>\n",
              "\n",
              "<style>\n",
              "  .colab-df-quickchart {\n",
              "      --bg-color: #E8F0FE;\n",
              "      --fill-color: #1967D2;\n",
              "      --hover-bg-color: #E2EBFA;\n",
              "      --hover-fill-color: #174EA6;\n",
              "      --disabled-fill-color: #AAA;\n",
              "      --disabled-bg-color: #DDD;\n",
              "  }\n",
              "\n",
              "  [theme=dark] .colab-df-quickchart {\n",
              "      --bg-color: #3B4455;\n",
              "      --fill-color: #D2E3FC;\n",
              "      --hover-bg-color: #434B5C;\n",
              "      --hover-fill-color: #FFFFFF;\n",
              "      --disabled-bg-color: #3B4455;\n",
              "      --disabled-fill-color: #666;\n",
              "  }\n",
              "\n",
              "  .colab-df-quickchart {\n",
              "    background-color: var(--bg-color);\n",
              "    border: none;\n",
              "    border-radius: 50%;\n",
              "    cursor: pointer;\n",
              "    display: none;\n",
              "    fill: var(--fill-color);\n",
              "    height: 32px;\n",
              "    padding: 0;\n",
              "    width: 32px;\n",
              "  }\n",
              "\n",
              "  .colab-df-quickchart:hover {\n",
              "    background-color: var(--hover-bg-color);\n",
              "    box-shadow: 0 1px 2px rgba(60, 64, 67, 0.3), 0 1px 3px 1px rgba(60, 64, 67, 0.15);\n",
              "    fill: var(--button-hover-fill-color);\n",
              "  }\n",
              "\n",
              "  .colab-df-quickchart-complete:disabled,\n",
              "  .colab-df-quickchart-complete:disabled:hover {\n",
              "    background-color: var(--disabled-bg-color);\n",
              "    fill: var(--disabled-fill-color);\n",
              "    box-shadow: none;\n",
              "  }\n",
              "\n",
              "  .colab-df-spinner {\n",
              "    border: 2px solid var(--fill-color);\n",
              "    border-color: transparent;\n",
              "    border-bottom-color: var(--fill-color);\n",
              "    animation:\n",
              "      spin 1s steps(1) infinite;\n",
              "  }\n",
              "\n",
              "  @keyframes spin {\n",
              "    0% {\n",
              "      border-color: transparent;\n",
              "      border-bottom-color: var(--fill-color);\n",
              "      border-left-color: var(--fill-color);\n",
              "    }\n",
              "    20% {\n",
              "      border-color: transparent;\n",
              "      border-left-color: var(--fill-color);\n",
              "      border-top-color: var(--fill-color);\n",
              "    }\n",
              "    30% {\n",
              "      border-color: transparent;\n",
              "      border-left-color: var(--fill-color);\n",
              "      border-top-color: var(--fill-color);\n",
              "      border-right-color: var(--fill-color);\n",
              "    }\n",
              "    40% {\n",
              "      border-color: transparent;\n",
              "      border-right-color: var(--fill-color);\n",
              "      border-top-color: var(--fill-color);\n",
              "    }\n",
              "    60% {\n",
              "      border-color: transparent;\n",
              "      border-right-color: var(--fill-color);\n",
              "    }\n",
              "    80% {\n",
              "      border-color: transparent;\n",
              "      border-right-color: var(--fill-color);\n",
              "      border-bottom-color: var(--fill-color);\n",
              "    }\n",
              "    90% {\n",
              "      border-color: transparent;\n",
              "      border-bottom-color: var(--fill-color);\n",
              "    }\n",
              "  }\n",
              "</style>\n",
              "\n",
              "  <script>\n",
              "    async function quickchart(key) {\n",
              "      const quickchartButtonEl =\n",
              "        document.querySelector('#' + key + ' button');\n",
              "      quickchartButtonEl.disabled = true;  // To prevent multiple clicks.\n",
              "      quickchartButtonEl.classList.add('colab-df-spinner');\n",
              "      try {\n",
              "        const charts = await google.colab.kernel.invokeFunction(\n",
              "            'suggestCharts', [key], {});\n",
              "      } catch (error) {\n",
              "        console.error('Error during call to suggestCharts:', error);\n",
              "      }\n",
              "      quickchartButtonEl.classList.remove('colab-df-spinner');\n",
              "      quickchartButtonEl.classList.add('colab-df-quickchart-complete');\n",
              "    }\n",
              "    (() => {\n",
              "      let quickchartButtonEl =\n",
              "        document.querySelector('#df-37839789-7fbe-46d7-a0fd-34e7311bab4e button');\n",
              "      quickchartButtonEl.style.display =\n",
              "        google.colab.kernel.accessAllowed ? 'block' : 'none';\n",
              "    })();\n",
              "  </script>\n",
              "</div>\n",
              "\n",
              "    </div>\n",
              "  </div>\n"
            ],
            "application/vnd.google.colaboratory.intrinsic+json": {
              "type": "dataframe",
              "variable_name": "df"
            }
          },
          "metadata": {},
          "execution_count": 6
        }
      ]
    },
    {
      "cell_type": "code",
      "source": [
        "df.shape # check the shape"
      ],
      "metadata": {
        "colab": {
          "base_uri": "https://localhost:8080/"
        },
        "id": "2VC1NwvHS-nJ",
        "outputId": "8e994545-2490-4af6-a2f0-3c79e1d5136b"
      },
      "execution_count": null,
      "outputs": [
        {
          "output_type": "execute_result",
          "data": {
            "text/plain": [
              "(737516, 28)"
            ]
          },
          "metadata": {},
          "execution_count": 7
        }
      ]
    },
    {
      "cell_type": "code",
      "source": [
        "df.dtypes #check for the datatypes"
      ],
      "metadata": {
        "colab": {
          "base_uri": "https://localhost:8080/",
          "height": 961
        },
        "id": "q0lMosHDTBVD",
        "outputId": "55cf7d9d-1345-4605-b0c9-df8a5d5148de"
      },
      "execution_count": null,
      "outputs": [
        {
          "output_type": "execute_result",
          "data": {
            "text/plain": [
              "Reporting_Year / Année                                     int64\n",
              "NPRI_ID / No_INRP                                          int64\n",
              "Number of employees                                       object\n",
              "Company_Name / Dénomination_sociale_de_l'entreprise       object\n",
              "Facility_Name / Installation                              object\n",
              "NAICS / Code_SCIAN                                         int64\n",
              "NAICS Title / Titre Code_SCIAN                            object\n",
              "PROVINCE                                                  object\n",
              "City                                                      object\n",
              "Latitude                                                 float64\n",
              "Longitude                                                float64\n",
              "CAS_Number / No_CAS                                       object\n",
              "Substance Name (English) / Nom de substance (Anglais)     object\n",
              "Units / Unités                                            object\n",
              "Estimation_Method / Méthode_destimation                  object\n",
              "Release to Air - Fugitive                                float64\n",
              "Release to Air - Other Non-Point                         float64\n",
              "Release to Air - Road dust                               float64\n",
              "Release to Air - Spills                                  float64\n",
              "Release to Air - Stack / Point                           float64\n",
              "Release to Air - Storage / Handling                      float64\n",
              "Releases to Land - Leaks                                 float64\n",
              "Releases to Land - Other                                 float64\n",
              "Releases to Land - Spills                                float64\n",
              "Releases to Water Bodies - Direct Discharges             float64\n",
              "Releases to Water Bodies - Leaks                         float64\n",
              "Releases to Water Bodies - Spills                        float64\n",
              "Sum of release to all media (<1tonne)                    float64\n",
              "dtype: object"
            ],
            "text/html": [
              "<div>\n",
              "<style scoped>\n",
              "    .dataframe tbody tr th:only-of-type {\n",
              "        vertical-align: middle;\n",
              "    }\n",
              "\n",
              "    .dataframe tbody tr th {\n",
              "        vertical-align: top;\n",
              "    }\n",
              "\n",
              "    .dataframe thead th {\n",
              "        text-align: right;\n",
              "    }\n",
              "</style>\n",
              "<table border=\"1\" class=\"dataframe\">\n",
              "  <thead>\n",
              "    <tr style=\"text-align: right;\">\n",
              "      <th></th>\n",
              "      <th>0</th>\n",
              "    </tr>\n",
              "  </thead>\n",
              "  <tbody>\n",
              "    <tr>\n",
              "      <th>Reporting_Year / Année</th>\n",
              "      <td>int64</td>\n",
              "    </tr>\n",
              "    <tr>\n",
              "      <th>NPRI_ID / No_INRP</th>\n",
              "      <td>int64</td>\n",
              "    </tr>\n",
              "    <tr>\n",
              "      <th>Number of employees</th>\n",
              "      <td>object</td>\n",
              "    </tr>\n",
              "    <tr>\n",
              "      <th>Company_Name / Dénomination_sociale_de_l'entreprise</th>\n",
              "      <td>object</td>\n",
              "    </tr>\n",
              "    <tr>\n",
              "      <th>Facility_Name / Installation</th>\n",
              "      <td>object</td>\n",
              "    </tr>\n",
              "    <tr>\n",
              "      <th>NAICS / Code_SCIAN</th>\n",
              "      <td>int64</td>\n",
              "    </tr>\n",
              "    <tr>\n",
              "      <th>NAICS Title / Titre Code_SCIAN</th>\n",
              "      <td>object</td>\n",
              "    </tr>\n",
              "    <tr>\n",
              "      <th>PROVINCE</th>\n",
              "      <td>object</td>\n",
              "    </tr>\n",
              "    <tr>\n",
              "      <th>City</th>\n",
              "      <td>object</td>\n",
              "    </tr>\n",
              "    <tr>\n",
              "      <th>Latitude</th>\n",
              "      <td>float64</td>\n",
              "    </tr>\n",
              "    <tr>\n",
              "      <th>Longitude</th>\n",
              "      <td>float64</td>\n",
              "    </tr>\n",
              "    <tr>\n",
              "      <th>CAS_Number / No_CAS</th>\n",
              "      <td>object</td>\n",
              "    </tr>\n",
              "    <tr>\n",
              "      <th>Substance Name (English) / Nom de substance (Anglais)</th>\n",
              "      <td>object</td>\n",
              "    </tr>\n",
              "    <tr>\n",
              "      <th>Units / Unités</th>\n",
              "      <td>object</td>\n",
              "    </tr>\n",
              "    <tr>\n",
              "      <th>Estimation_Method / Méthode_destimation</th>\n",
              "      <td>object</td>\n",
              "    </tr>\n",
              "    <tr>\n",
              "      <th>Release to Air - Fugitive</th>\n",
              "      <td>float64</td>\n",
              "    </tr>\n",
              "    <tr>\n",
              "      <th>Release to Air - Other Non-Point</th>\n",
              "      <td>float64</td>\n",
              "    </tr>\n",
              "    <tr>\n",
              "      <th>Release to Air - Road dust</th>\n",
              "      <td>float64</td>\n",
              "    </tr>\n",
              "    <tr>\n",
              "      <th>Release to Air - Spills</th>\n",
              "      <td>float64</td>\n",
              "    </tr>\n",
              "    <tr>\n",
              "      <th>Release to Air - Stack / Point</th>\n",
              "      <td>float64</td>\n",
              "    </tr>\n",
              "    <tr>\n",
              "      <th>Release to Air - Storage / Handling</th>\n",
              "      <td>float64</td>\n",
              "    </tr>\n",
              "    <tr>\n",
              "      <th>Releases to Land - Leaks</th>\n",
              "      <td>float64</td>\n",
              "    </tr>\n",
              "    <tr>\n",
              "      <th>Releases to Land - Other</th>\n",
              "      <td>float64</td>\n",
              "    </tr>\n",
              "    <tr>\n",
              "      <th>Releases to Land - Spills</th>\n",
              "      <td>float64</td>\n",
              "    </tr>\n",
              "    <tr>\n",
              "      <th>Releases to Water Bodies - Direct Discharges</th>\n",
              "      <td>float64</td>\n",
              "    </tr>\n",
              "    <tr>\n",
              "      <th>Releases to Water Bodies - Leaks</th>\n",
              "      <td>float64</td>\n",
              "    </tr>\n",
              "    <tr>\n",
              "      <th>Releases to Water Bodies - Spills</th>\n",
              "      <td>float64</td>\n",
              "    </tr>\n",
              "    <tr>\n",
              "      <th>Sum of release to all media (&lt;1tonne)</th>\n",
              "      <td>float64</td>\n",
              "    </tr>\n",
              "  </tbody>\n",
              "</table>\n",
              "</div><br><label><b>dtype:</b> object</label>"
            ]
          },
          "metadata": {},
          "execution_count": 8
        }
      ]
    },
    {
      "cell_type": "code",
      "source": [
        "#changing the data type of number of employees from object and integer\n",
        "df['Number of employees'] = pd.to_numeric(df['Number of employees'], errors='coerce')\n",
        "df['Number of employees'] = df['Number of employees'].fillna(0).astype(int)\n",
        "datatype = df['Number of employees'].dtype\n",
        "print(datatype)"
      ],
      "metadata": {
        "colab": {
          "base_uri": "https://localhost:8080/"
        },
        "id": "FLWvL2WUTjt9",
        "outputId": "3054b8dd-f577-4ff0-a1c3-1e95d050a117"
      },
      "execution_count": null,
      "outputs": [
        {
          "output_type": "stream",
          "name": "stdout",
          "text": [
            "int64\n"
          ]
        }
      ]
    },
    {
      "cell_type": "code",
      "source": [
        "#total number of missing values\n",
        "df.isnull().sum()\n",
        "print(df.isnull().sum())"
      ],
      "metadata": {
        "colab": {
          "base_uri": "https://localhost:8080/"
        },
        "id": "GSBTVqzpTq91",
        "outputId": "5dab0685-b6ed-4c6b-f524-77a281caafba"
      },
      "execution_count": null,
      "outputs": [
        {
          "output_type": "stream",
          "name": "stdout",
          "text": [
            "Reporting_Year / Année                                        0\n",
            "NPRI_ID / No_INRP                                             0\n",
            "Number of employees                                           0\n",
            "Company_Name / Dénomination_sociale_de_l'entreprise           0\n",
            "Facility_Name / Installation                               1176\n",
            "NAICS / Code_SCIAN                                            0\n",
            "NAICS Title / Titre Code_SCIAN                                0\n",
            "PROVINCE                                                      0\n",
            "City                                                      90764\n",
            "Latitude                                                   4082\n",
            "Longitude                                                  4082\n",
            "CAS_Number / No_CAS                                           0\n",
            "Substance Name (English) / Nom de substance (Anglais)         0\n",
            "Units / Unités                                                0\n",
            "Estimation_Method / Méthode_destimation                      0\n",
            "Release to Air - Fugitive                                612484\n",
            "Release to Air - Other Non-Point                         706636\n",
            "Release to Air - Road dust                               707655\n",
            "Release to Air - Spills                                  728335\n",
            "Release to Air - Stack / Point                           224234\n",
            "Release to Air - Storage / Handling                      657512\n",
            "Releases to Land - Leaks                                 736606\n",
            "Releases to Land - Other                                 731848\n",
            "Releases to Land - Spills                                733046\n",
            "Releases to Water Bodies - Direct Discharges             684328\n",
            "Releases to Water Bodies - Leaks                         736774\n",
            "Releases to Water Bodies - Spills                        734436\n",
            "Sum of release to all media (<1tonne)                    687331\n",
            "dtype: int64\n"
          ]
        }
      ]
    },
    {
      "cell_type": "code",
      "source": [
        "#cleaning data by creating a copy of that\n",
        "df_clean=df.copy()"
      ],
      "metadata": {
        "id": "DoaSxc37UXrR"
      },
      "execution_count": null,
      "outputs": []
    },
    {
      "cell_type": "code",
      "source": [
        "# Set the threshold to 50% - Keep columns with at least 98% non-null values\n",
        "threshold = 98\n",
        "\n",
        "# Drop columns from the DataFrame that have more than 98% non-null values\n",
        "df_clean = df.dropna(axis=1, thresh=(len(df) * (1 - threshold / 100)))"
      ],
      "metadata": {
        "id": "bWFnjRO2ULG2"
      },
      "execution_count": null,
      "outputs": []
    },
    {
      "cell_type": "code",
      "source": [
        "print(df_clean.shape) #check for the shape of dataset"
      ],
      "metadata": {
        "colab": {
          "base_uri": "https://localhost:8080/"
        },
        "id": "n2BvqleQUO2G",
        "outputId": "960d0c3b-a2ea-469d-93fb-629a6edb045b"
      },
      "execution_count": null,
      "outputs": [
        {
          "output_type": "stream",
          "name": "stdout",
          "text": [
            "(737516, 22)\n"
          ]
        }
      ]
    },
    {
      "cell_type": "code",
      "source": [
        "df_clean.isnull().sum()"
      ],
      "metadata": {
        "colab": {
          "base_uri": "https://localhost:8080/",
          "height": 773
        },
        "id": "HD9bREPxUkjR",
        "outputId": "48f1ab57-5735-4627-9c29-ff4035768235"
      },
      "execution_count": null,
      "outputs": [
        {
          "output_type": "execute_result",
          "data": {
            "text/plain": [
              "Reporting_Year / Année                                        0\n",
              "NPRI_ID / No_INRP                                             0\n",
              "Number of employees                                           0\n",
              "Company_Name / Dénomination_sociale_de_l'entreprise           0\n",
              "Facility_Name / Installation                               1176\n",
              "NAICS / Code_SCIAN                                            0\n",
              "NAICS Title / Titre Code_SCIAN                                0\n",
              "PROVINCE                                                      0\n",
              "City                                                      90764\n",
              "Latitude                                                   4082\n",
              "Longitude                                                  4082\n",
              "CAS_Number / No_CAS                                           0\n",
              "Substance Name (English) / Nom de substance (Anglais)         0\n",
              "Units / Unités                                                0\n",
              "Estimation_Method / Méthode_destimation                      0\n",
              "Release to Air - Fugitive                                612484\n",
              "Release to Air - Other Non-Point                         706636\n",
              "Release to Air - Road dust                               707655\n",
              "Release to Air - Stack / Point                           224234\n",
              "Release to Air - Storage / Handling                      657512\n",
              "Releases to Water Bodies - Direct Discharges             684328\n",
              "Sum of release to all media (<1tonne)                    687331\n",
              "dtype: int64"
            ],
            "text/html": [
              "<div>\n",
              "<style scoped>\n",
              "    .dataframe tbody tr th:only-of-type {\n",
              "        vertical-align: middle;\n",
              "    }\n",
              "\n",
              "    .dataframe tbody tr th {\n",
              "        vertical-align: top;\n",
              "    }\n",
              "\n",
              "    .dataframe thead th {\n",
              "        text-align: right;\n",
              "    }\n",
              "</style>\n",
              "<table border=\"1\" class=\"dataframe\">\n",
              "  <thead>\n",
              "    <tr style=\"text-align: right;\">\n",
              "      <th></th>\n",
              "      <th>0</th>\n",
              "    </tr>\n",
              "  </thead>\n",
              "  <tbody>\n",
              "    <tr>\n",
              "      <th>Reporting_Year / Année</th>\n",
              "      <td>0</td>\n",
              "    </tr>\n",
              "    <tr>\n",
              "      <th>NPRI_ID / No_INRP</th>\n",
              "      <td>0</td>\n",
              "    </tr>\n",
              "    <tr>\n",
              "      <th>Number of employees</th>\n",
              "      <td>0</td>\n",
              "    </tr>\n",
              "    <tr>\n",
              "      <th>Company_Name / Dénomination_sociale_de_l'entreprise</th>\n",
              "      <td>0</td>\n",
              "    </tr>\n",
              "    <tr>\n",
              "      <th>Facility_Name / Installation</th>\n",
              "      <td>1176</td>\n",
              "    </tr>\n",
              "    <tr>\n",
              "      <th>NAICS / Code_SCIAN</th>\n",
              "      <td>0</td>\n",
              "    </tr>\n",
              "    <tr>\n",
              "      <th>NAICS Title / Titre Code_SCIAN</th>\n",
              "      <td>0</td>\n",
              "    </tr>\n",
              "    <tr>\n",
              "      <th>PROVINCE</th>\n",
              "      <td>0</td>\n",
              "    </tr>\n",
              "    <tr>\n",
              "      <th>City</th>\n",
              "      <td>90764</td>\n",
              "    </tr>\n",
              "    <tr>\n",
              "      <th>Latitude</th>\n",
              "      <td>4082</td>\n",
              "    </tr>\n",
              "    <tr>\n",
              "      <th>Longitude</th>\n",
              "      <td>4082</td>\n",
              "    </tr>\n",
              "    <tr>\n",
              "      <th>CAS_Number / No_CAS</th>\n",
              "      <td>0</td>\n",
              "    </tr>\n",
              "    <tr>\n",
              "      <th>Substance Name (English) / Nom de substance (Anglais)</th>\n",
              "      <td>0</td>\n",
              "    </tr>\n",
              "    <tr>\n",
              "      <th>Units / Unités</th>\n",
              "      <td>0</td>\n",
              "    </tr>\n",
              "    <tr>\n",
              "      <th>Estimation_Method / Méthode_destimation</th>\n",
              "      <td>0</td>\n",
              "    </tr>\n",
              "    <tr>\n",
              "      <th>Release to Air - Fugitive</th>\n",
              "      <td>612484</td>\n",
              "    </tr>\n",
              "    <tr>\n",
              "      <th>Release to Air - Other Non-Point</th>\n",
              "      <td>706636</td>\n",
              "    </tr>\n",
              "    <tr>\n",
              "      <th>Release to Air - Road dust</th>\n",
              "      <td>707655</td>\n",
              "    </tr>\n",
              "    <tr>\n",
              "      <th>Release to Air - Stack / Point</th>\n",
              "      <td>224234</td>\n",
              "    </tr>\n",
              "    <tr>\n",
              "      <th>Release to Air - Storage / Handling</th>\n",
              "      <td>657512</td>\n",
              "    </tr>\n",
              "    <tr>\n",
              "      <th>Releases to Water Bodies - Direct Discharges</th>\n",
              "      <td>684328</td>\n",
              "    </tr>\n",
              "    <tr>\n",
              "      <th>Sum of release to all media (&lt;1tonne)</th>\n",
              "      <td>687331</td>\n",
              "    </tr>\n",
              "  </tbody>\n",
              "</table>\n",
              "</div><br><label><b>dtype:</b> int64</label>"
            ]
          },
          "metadata": {},
          "execution_count": 14
        }
      ]
    },
    {
      "cell_type": "code",
      "source": [
        "# Fill missing values in the 'Facility_Name / Installation' column with the most frequent value (mode)\n",
        "df_clean['Facility_Name / Installation'].fillna(df_clean['Facility_Name / Installation'].mode()[0], inplace=True)\n"
      ],
      "metadata": {
        "colab": {
          "base_uri": "https://localhost:8080/"
        },
        "id": "9cYSWBUKUt5I",
        "outputId": "891c935b-b22e-4cd4-91c9-c49135d25903"
      },
      "execution_count": null,
      "outputs": [
        {
          "output_type": "stream",
          "name": "stderr",
          "text": [
            "<ipython-input-15-b31f84f0ad93>:2: FutureWarning: A value is trying to be set on a copy of a DataFrame or Series through chained assignment using an inplace method.\n",
            "The behavior will change in pandas 3.0. This inplace method will never work because the intermediate object on which we are setting values always behaves as a copy.\n",
            "\n",
            "For example, when doing 'df[col].method(value, inplace=True)', try using 'df.method({col: value}, inplace=True)' or df[col] = df[col].method(value) instead, to perform the operation inplace on the original object.\n",
            "\n",
            "\n",
            "  df_clean['Facility_Name / Installation'].fillna(df_clean['Facility_Name / Installation'].mode()[0], inplace=True)\n",
            "<ipython-input-15-b31f84f0ad93>:2: SettingWithCopyWarning: \n",
            "A value is trying to be set on a copy of a slice from a DataFrame\n",
            "\n",
            "See the caveats in the documentation: https://pandas.pydata.org/pandas-docs/stable/user_guide/indexing.html#returning-a-view-versus-a-copy\n",
            "  df_clean['Facility_Name / Installation'].fillna(df_clean['Facility_Name / Installation'].mode()[0], inplace=True)\n"
          ]
        }
      ]
    },
    {
      "cell_type": "code",
      "source": [
        "# Fill missing values in the 'City' column with the string \"Unknown\"\n",
        "df_clean['City'].fillna(\"Unknown\", inplace=True)\n"
      ],
      "metadata": {
        "colab": {
          "base_uri": "https://localhost:8080/"
        },
        "id": "XJ3zkAl6UxJ4",
        "outputId": "30b42ae9-d750-43a4-96e9-caa3613ec787"
      },
      "execution_count": null,
      "outputs": [
        {
          "output_type": "stream",
          "name": "stderr",
          "text": [
            "<ipython-input-16-7cfa5c1dc25d>:2: FutureWarning: A value is trying to be set on a copy of a DataFrame or Series through chained assignment using an inplace method.\n",
            "The behavior will change in pandas 3.0. This inplace method will never work because the intermediate object on which we are setting values always behaves as a copy.\n",
            "\n",
            "For example, when doing 'df[col].method(value, inplace=True)', try using 'df.method({col: value}, inplace=True)' or df[col] = df[col].method(value) instead, to perform the operation inplace on the original object.\n",
            "\n",
            "\n",
            "  df_clean['City'].fillna(\"Unknown\", inplace=True)\n",
            "<ipython-input-16-7cfa5c1dc25d>:2: SettingWithCopyWarning: \n",
            "A value is trying to be set on a copy of a slice from a DataFrame\n",
            "\n",
            "See the caveats in the documentation: https://pandas.pydata.org/pandas-docs/stable/user_guide/indexing.html#returning-a-view-versus-a-copy\n",
            "  df_clean['City'].fillna(\"Unknown\", inplace=True)\n"
          ]
        }
      ]
    },
    {
      "cell_type": "code",
      "source": [
        "# Fill missing values in the 'Latitude' column with the median value of the column\n",
        "df_clean['Latitude'].fillna(df_clean['Latitude'].median(), inplace=True)\n",
        "\n",
        "# Fill missing values in the 'Longitude' column with the median value of the column\n",
        "df_clean['Longitude'].fillna(df_clean['Longitude'].median(), inplace=True)\n"
      ],
      "metadata": {
        "colab": {
          "base_uri": "https://localhost:8080/"
        },
        "id": "_OtyZYNRUznK",
        "outputId": "fb24212d-0a82-469b-c3ca-8352c7fb5c0d"
      },
      "execution_count": null,
      "outputs": [
        {
          "output_type": "stream",
          "name": "stderr",
          "text": [
            "<ipython-input-17-d087c3f2dbce>:2: FutureWarning: A value is trying to be set on a copy of a DataFrame or Series through chained assignment using an inplace method.\n",
            "The behavior will change in pandas 3.0. This inplace method will never work because the intermediate object on which we are setting values always behaves as a copy.\n",
            "\n",
            "For example, when doing 'df[col].method(value, inplace=True)', try using 'df.method({col: value}, inplace=True)' or df[col] = df[col].method(value) instead, to perform the operation inplace on the original object.\n",
            "\n",
            "\n",
            "  df_clean['Latitude'].fillna(df_clean['Latitude'].median(), inplace=True)\n",
            "<ipython-input-17-d087c3f2dbce>:2: SettingWithCopyWarning: \n",
            "A value is trying to be set on a copy of a slice from a DataFrame\n",
            "\n",
            "See the caveats in the documentation: https://pandas.pydata.org/pandas-docs/stable/user_guide/indexing.html#returning-a-view-versus-a-copy\n",
            "  df_clean['Latitude'].fillna(df_clean['Latitude'].median(), inplace=True)\n",
            "<ipython-input-17-d087c3f2dbce>:5: FutureWarning: A value is trying to be set on a copy of a DataFrame or Series through chained assignment using an inplace method.\n",
            "The behavior will change in pandas 3.0. This inplace method will never work because the intermediate object on which we are setting values always behaves as a copy.\n",
            "\n",
            "For example, when doing 'df[col].method(value, inplace=True)', try using 'df.method({col: value}, inplace=True)' or df[col] = df[col].method(value) instead, to perform the operation inplace on the original object.\n",
            "\n",
            "\n",
            "  df_clean['Longitude'].fillna(df_clean['Longitude'].median(), inplace=True)\n",
            "<ipython-input-17-d087c3f2dbce>:5: SettingWithCopyWarning: \n",
            "A value is trying to be set on a copy of a slice from a DataFrame\n",
            "\n",
            "See the caveats in the documentation: https://pandas.pydata.org/pandas-docs/stable/user_guide/indexing.html#returning-a-view-versus-a-copy\n",
            "  df_clean['Longitude'].fillna(df_clean['Longitude'].median(), inplace=True)\n"
          ]
        }
      ]
    },
    {
      "cell_type": "code",
      "source": [
        "df_clean['Number of employees'] = df_clean['Number of employees'].fillna(df_clean['Number of employees'].median()).astype(int)\n"
      ],
      "metadata": {
        "colab": {
          "base_uri": "https://localhost:8080/"
        },
        "id": "En7VuCAZU5iq",
        "outputId": "12142225-45e4-4bbb-d25d-05cb4b2768ec"
      },
      "execution_count": null,
      "outputs": [
        {
          "output_type": "stream",
          "name": "stderr",
          "text": [
            "<ipython-input-18-e6d123df47fe>:1: SettingWithCopyWarning: \n",
            "A value is trying to be set on a copy of a slice from a DataFrame.\n",
            "Try using .loc[row_indexer,col_indexer] = value instead\n",
            "\n",
            "See the caveats in the documentation: https://pandas.pydata.org/pandas-docs/stable/user_guide/indexing.html#returning-a-view-versus-a-copy\n",
            "  df_clean['Number of employees'] = df_clean['Number of employees'].fillna(df_clean['Number of employees'].median()).astype(int)\n"
          ]
        }
      ]
    },
    {
      "cell_type": "code",
      "source": [
        "print(df_clean.isnull().sum()) #check missing values\n"
      ],
      "metadata": {
        "colab": {
          "base_uri": "https://localhost:8080/"
        },
        "id": "u-dDK4vRU7H2",
        "outputId": "4492e926-32e4-4168-ceb9-f43154789083"
      },
      "execution_count": null,
      "outputs": [
        {
          "output_type": "stream",
          "name": "stdout",
          "text": [
            "Reporting_Year / Année                                        0\n",
            "NPRI_ID / No_INRP                                             0\n",
            "Number of employees                                           0\n",
            "Company_Name / Dénomination_sociale_de_l'entreprise           0\n",
            "Facility_Name / Installation                                  0\n",
            "NAICS / Code_SCIAN                                            0\n",
            "NAICS Title / Titre Code_SCIAN                                0\n",
            "PROVINCE                                                      0\n",
            "City                                                          0\n",
            "Latitude                                                      0\n",
            "Longitude                                                     0\n",
            "CAS_Number / No_CAS                                           0\n",
            "Substance Name (English) / Nom de substance (Anglais)         0\n",
            "Units / Unités                                                0\n",
            "Estimation_Method / Méthode_destimation                      0\n",
            "Release to Air - Fugitive                                612484\n",
            "Release to Air - Other Non-Point                         706636\n",
            "Release to Air - Road dust                               707655\n",
            "Release to Air - Stack / Point                           224234\n",
            "Release to Air - Storage / Handling                      657512\n",
            "Releases to Water Bodies - Direct Discharges             684328\n",
            "Sum of release to all media (<1tonne)                    687331\n",
            "dtype: int64\n"
          ]
        }
      ]
    },
    {
      "cell_type": "code",
      "source": [
        "# Standardize column names by removing extra spaces\n",
        "df_clean.columns = df_clean.columns.str.strip()\n",
        "\n",
        "# Fill missing values with 0 in emissions columns\n",
        "df_clean['Release to Air - Fugitive'] = df_clean['Release to Air - Fugitive'].fillna(0)\n",
        "df_clean['Release to Air - Stack / Point'] = df_clean['Release to Air - Stack / Point'].fillna(0)\n",
        "df_clean['Release to Air - Storage / Handling'] = df_clean['Release to Air - Storage / Handling'].fillna(0)\n",
        "\n",
        "# Verify that missing values are filled\n",
        "print(df_clean[['Release to Air - Fugitive', 'Release to Air - Stack / Point',\n",
        "                'Release to Air - Storage / Handling']].isnull().sum())\n"
      ],
      "metadata": {
        "colab": {
          "base_uri": "https://localhost:8080/"
        },
        "id": "jzTr5Xz_VFe4",
        "outputId": "161efa82-25e4-4f12-ad12-aaa722387682"
      },
      "execution_count": null,
      "outputs": [
        {
          "output_type": "stream",
          "name": "stdout",
          "text": [
            "Release to Air - Fugitive              0\n",
            "Release to Air - Stack / Point         0\n",
            "Release to Air - Storage / Handling    0\n",
            "dtype: int64\n"
          ]
        },
        {
          "output_type": "stream",
          "name": "stderr",
          "text": [
            "<ipython-input-20-16d8cae13b8a>:5: SettingWithCopyWarning: \n",
            "A value is trying to be set on a copy of a slice from a DataFrame.\n",
            "Try using .loc[row_indexer,col_indexer] = value instead\n",
            "\n",
            "See the caveats in the documentation: https://pandas.pydata.org/pandas-docs/stable/user_guide/indexing.html#returning-a-view-versus-a-copy\n",
            "  df_clean['Release to Air - Fugitive'] = df_clean['Release to Air - Fugitive'].fillna(0)\n",
            "<ipython-input-20-16d8cae13b8a>:6: SettingWithCopyWarning: \n",
            "A value is trying to be set on a copy of a slice from a DataFrame.\n",
            "Try using .loc[row_indexer,col_indexer] = value instead\n",
            "\n",
            "See the caveats in the documentation: https://pandas.pydata.org/pandas-docs/stable/user_guide/indexing.html#returning-a-view-versus-a-copy\n",
            "  df_clean['Release to Air - Stack / Point'] = df_clean['Release to Air - Stack / Point'].fillna(0)\n",
            "<ipython-input-20-16d8cae13b8a>:7: SettingWithCopyWarning: \n",
            "A value is trying to be set on a copy of a slice from a DataFrame.\n",
            "Try using .loc[row_indexer,col_indexer] = value instead\n",
            "\n",
            "See the caveats in the documentation: https://pandas.pydata.org/pandas-docs/stable/user_guide/indexing.html#returning-a-view-versus-a-copy\n",
            "  df_clean['Release to Air - Storage / Handling'] = df_clean['Release to Air - Storage / Handling'].fillna(0)\n"
          ]
        }
      ]
    },
    {
      "cell_type": "code",
      "source": [
        "#check for missing values\n",
        "df_clean.isnull().sum()\n",
        "print(df_clean.isnull().sum())"
      ],
      "metadata": {
        "colab": {
          "base_uri": "https://localhost:8080/"
        },
        "id": "w-2BURc2VHOx",
        "outputId": "47dc7ac1-9456-47ff-c06b-d6a75a5f3ef4"
      },
      "execution_count": null,
      "outputs": [
        {
          "output_type": "stream",
          "name": "stdout",
          "text": [
            "Reporting_Year / Année                                        0\n",
            "NPRI_ID / No_INRP                                             0\n",
            "Number of employees                                           0\n",
            "Company_Name / Dénomination_sociale_de_l'entreprise           0\n",
            "Facility_Name / Installation                                  0\n",
            "NAICS / Code_SCIAN                                            0\n",
            "NAICS Title / Titre Code_SCIAN                                0\n",
            "PROVINCE                                                      0\n",
            "City                                                          0\n",
            "Latitude                                                      0\n",
            "Longitude                                                     0\n",
            "CAS_Number / No_CAS                                           0\n",
            "Substance Name (English) / Nom de substance (Anglais)         0\n",
            "Units / Unités                                                0\n",
            "Estimation_Method / Méthode_destimation                      0\n",
            "Release to Air - Fugitive                                     0\n",
            "Release to Air - Other Non-Point                         706636\n",
            "Release to Air - Road dust                               707655\n",
            "Release to Air - Stack / Point                                0\n",
            "Release to Air - Storage / Handling                           0\n",
            "Releases to Water Bodies - Direct Discharges             684328\n",
            "Sum of release to all media (<1tonne)                    687331\n",
            "dtype: int64\n"
          ]
        }
      ]
    },
    {
      "cell_type": "code",
      "source": [
        "# Fill missing values for the columns with zero (assuming missing values indicate no release)\n",
        "df_clean['Release to Air - Other Non-Point'].fillna(0, inplace=True)\n",
        "df_clean['Release to Air - Road dust'].fillna(0, inplace=True)\n",
        "\n",
        "\n"
      ],
      "metadata": {
        "colab": {
          "base_uri": "https://localhost:8080/"
        },
        "id": "CXZJfqwu-oIx",
        "outputId": "97c4f07e-ca62-4b2e-fcd5-b5ba8b0c7de2"
      },
      "execution_count": null,
      "outputs": [
        {
          "output_type": "stream",
          "name": "stderr",
          "text": [
            "<ipython-input-22-10f6b6c33a7b>:2: FutureWarning: A value is trying to be set on a copy of a DataFrame or Series through chained assignment using an inplace method.\n",
            "The behavior will change in pandas 3.0. This inplace method will never work because the intermediate object on which we are setting values always behaves as a copy.\n",
            "\n",
            "For example, when doing 'df[col].method(value, inplace=True)', try using 'df.method({col: value}, inplace=True)' or df[col] = df[col].method(value) instead, to perform the operation inplace on the original object.\n",
            "\n",
            "\n",
            "  df_clean['Release to Air - Other Non-Point'].fillna(0, inplace=True)\n",
            "<ipython-input-22-10f6b6c33a7b>:2: SettingWithCopyWarning: \n",
            "A value is trying to be set on a copy of a slice from a DataFrame\n",
            "\n",
            "See the caveats in the documentation: https://pandas.pydata.org/pandas-docs/stable/user_guide/indexing.html#returning-a-view-versus-a-copy\n",
            "  df_clean['Release to Air - Other Non-Point'].fillna(0, inplace=True)\n",
            "<ipython-input-22-10f6b6c33a7b>:3: FutureWarning: A value is trying to be set on a copy of a DataFrame or Series through chained assignment using an inplace method.\n",
            "The behavior will change in pandas 3.0. This inplace method will never work because the intermediate object on which we are setting values always behaves as a copy.\n",
            "\n",
            "For example, when doing 'df[col].method(value, inplace=True)', try using 'df.method({col: value}, inplace=True)' or df[col] = df[col].method(value) instead, to perform the operation inplace on the original object.\n",
            "\n",
            "\n",
            "  df_clean['Release to Air - Road dust'].fillna(0, inplace=True)\n",
            "<ipython-input-22-10f6b6c33a7b>:3: SettingWithCopyWarning: \n",
            "A value is trying to be set on a copy of a slice from a DataFrame\n",
            "\n",
            "See the caveats in the documentation: https://pandas.pydata.org/pandas-docs/stable/user_guide/indexing.html#returning-a-view-versus-a-copy\n",
            "  df_clean['Release to Air - Road dust'].fillna(0, inplace=True)\n"
          ]
        }
      ]
    },
    {
      "cell_type": "code",
      "source": [
        "df_clean['Releases to Water Bodies - Direct Discharges'].fillna(0, inplace=True)\n",
        "df_clean['Sum of release to all media (<1tonne)'].fillna(0, inplace=True)\n"
      ],
      "metadata": {
        "colab": {
          "base_uri": "https://localhost:8080/"
        },
        "id": "HZCSM1g6GKNT",
        "outputId": "20c33f77-aa7d-4ddd-dc97-45c2221864f6"
      },
      "execution_count": null,
      "outputs": [
        {
          "output_type": "stream",
          "name": "stderr",
          "text": [
            "<ipython-input-23-a801e506dde0>:1: FutureWarning: A value is trying to be set on a copy of a DataFrame or Series through chained assignment using an inplace method.\n",
            "The behavior will change in pandas 3.0. This inplace method will never work because the intermediate object on which we are setting values always behaves as a copy.\n",
            "\n",
            "For example, when doing 'df[col].method(value, inplace=True)', try using 'df.method({col: value}, inplace=True)' or df[col] = df[col].method(value) instead, to perform the operation inplace on the original object.\n",
            "\n",
            "\n",
            "  df_clean['Releases to Water Bodies - Direct Discharges'].fillna(0, inplace=True)\n",
            "<ipython-input-23-a801e506dde0>:1: SettingWithCopyWarning: \n",
            "A value is trying to be set on a copy of a slice from a DataFrame\n",
            "\n",
            "See the caveats in the documentation: https://pandas.pydata.org/pandas-docs/stable/user_guide/indexing.html#returning-a-view-versus-a-copy\n",
            "  df_clean['Releases to Water Bodies - Direct Discharges'].fillna(0, inplace=True)\n",
            "<ipython-input-23-a801e506dde0>:2: FutureWarning: A value is trying to be set on a copy of a DataFrame or Series through chained assignment using an inplace method.\n",
            "The behavior will change in pandas 3.0. This inplace method will never work because the intermediate object on which we are setting values always behaves as a copy.\n",
            "\n",
            "For example, when doing 'df[col].method(value, inplace=True)', try using 'df.method({col: value}, inplace=True)' or df[col] = df[col].method(value) instead, to perform the operation inplace on the original object.\n",
            "\n",
            "\n",
            "  df_clean['Sum of release to all media (<1tonne)'].fillna(0, inplace=True)\n",
            "<ipython-input-23-a801e506dde0>:2: SettingWithCopyWarning: \n",
            "A value is trying to be set on a copy of a slice from a DataFrame\n",
            "\n",
            "See the caveats in the documentation: https://pandas.pydata.org/pandas-docs/stable/user_guide/indexing.html#returning-a-view-versus-a-copy\n",
            "  df_clean['Sum of release to all media (<1tonne)'].fillna(0, inplace=True)\n"
          ]
        }
      ]
    },
    {
      "cell_type": "code",
      "source": [
        "# Remove extra spaces from all column names\n",
        "df_clean.columns = df_clean.columns.str.strip()\n",
        "\n",
        "# Display column names to verify\n",
        "print(df_clean.columns)\n"
      ],
      "metadata": {
        "colab": {
          "base_uri": "https://localhost:8080/"
        },
        "id": "HJDdrIlkcD8g",
        "outputId": "34fa4b38-fb27-45b8-dafc-598d30abd0c3"
      },
      "execution_count": null,
      "outputs": [
        {
          "output_type": "stream",
          "name": "stdout",
          "text": [
            "Index(['Reporting_Year / Année', 'NPRI_ID / No_INRP', 'Number of employees',\n",
            "       'Company_Name / Dénomination_sociale_de_l'entreprise',\n",
            "       'Facility_Name / Installation', 'NAICS / Code_SCIAN',\n",
            "       'NAICS Title / Titre Code_SCIAN', 'PROVINCE', 'City', 'Latitude',\n",
            "       'Longitude', 'CAS_Number / No_CAS',\n",
            "       'Substance Name (English) / Nom de substance (Anglais)',\n",
            "       'Units / Unités', 'Estimation_Method / Méthode_destimation',\n",
            "       'Release to Air - Fugitive', 'Release to Air - Other Non-Point',\n",
            "       'Release to Air - Road dust', 'Release to Air - Stack / Point',\n",
            "       'Release to Air - Storage / Handling',\n",
            "       'Releases to Water Bodies - Direct Discharges',\n",
            "       'Sum of release to all media (<1tonne)'],\n",
            "      dtype='object')\n"
          ]
        }
      ]
    },
    {
      "cell_type": "code",
      "source": [
        "# Standardize column names (remove spaces & special characters)\n",
        "df_clean.columns = df_clean.columns.str.strip()\n",
        "df_clean.columns = df_clean.columns.str.replace(r\"[^\\w\\s]\", \"\", regex=True)  # Remove special characters\n",
        "\n",
        "# Print updated column names\n",
        "print(\"Updated column names:\", df_clean.columns)\n"
      ],
      "metadata": {
        "colab": {
          "base_uri": "https://localhost:8080/"
        },
        "id": "Jz9OepameVCH",
        "outputId": "9f9e91e7-0ddd-4f70-b902-09d8af1edb7b"
      },
      "execution_count": null,
      "outputs": [
        {
          "output_type": "stream",
          "name": "stdout",
          "text": [
            "Updated column names: Index(['Reporting_Year  Année', 'NPRI_ID  No_INRP', 'Number of employees',\n",
            "       'Company_Name  Dénomination_sociale_de_lentreprise',\n",
            "       'Facility_Name  Installation', 'NAICS  Code_SCIAN',\n",
            "       'NAICS Title  Titre Code_SCIAN', 'PROVINCE', 'City', 'Latitude',\n",
            "       'Longitude', 'CAS_Number  No_CAS',\n",
            "       'Substance Name English  Nom de substance Anglais', 'Units  Unités',\n",
            "       'Estimation_Method  Méthode_destimation', 'Release to Air  Fugitive',\n",
            "       'Release to Air  Other NonPoint', 'Release to Air  Road dust',\n",
            "       'Release to Air  Stack  Point', 'Release to Air  Storage  Handling',\n",
            "       'Releases to Water Bodies  Direct Discharges',\n",
            "       'Sum of release to all media 1tonne'],\n",
            "      dtype='object')\n"
          ]
        }
      ]
    },
    {
      "cell_type": "code",
      "source": [
        "print(df_clean.columns)\n"
      ],
      "metadata": {
        "colab": {
          "base_uri": "https://localhost:8080/"
        },
        "id": "htcGB7xofj3O",
        "outputId": "b5f2f134-f3c3-42fb-ab7f-b13732c72b7b"
      },
      "execution_count": null,
      "outputs": [
        {
          "output_type": "stream",
          "name": "stdout",
          "text": [
            "Index(['Reporting_Year  Année', 'NPRI_ID  No_INRP', 'Number of employees',\n",
            "       'Company_Name  Dénomination_sociale_de_lentreprise',\n",
            "       'Facility_Name  Installation', 'NAICS  Code_SCIAN',\n",
            "       'NAICS Title  Titre Code_SCIAN', 'PROVINCE', 'City', 'Latitude',\n",
            "       'Longitude', 'CAS_Number  No_CAS',\n",
            "       'Substance Name English  Nom de substance Anglais', 'Units  Unités',\n",
            "       'Estimation_Method  Méthode_destimation', 'Release to Air  Fugitive',\n",
            "       'Release to Air  Other NonPoint', 'Release to Air  Road dust',\n",
            "       'Release to Air  Stack  Point', 'Release to Air  Storage  Handling',\n",
            "       'Releases to Water Bodies  Direct Discharges',\n",
            "       'Sum of release to all media 1tonne'],\n",
            "      dtype='object')\n"
          ]
        }
      ]
    },
    {
      "cell_type": "markdown",
      "source": [
        "Imports necessary libraries for data processing, visualization, machine learning, and oversampling (SMOTE to handle class imbalance)."
      ],
      "metadata": {
        "id": "02-n9-B9OktB"
      }
    },
    {
      "cell_type": "code",
      "source": [
        "#importing the libraries\n",
        "import numpy as np\n",
        "import pandas as pd\n",
        "import matplotlib.pyplot as plt\n",
        "import seaborn as sns\n",
        "from sklearn.model_selection import train_test_split, RandomizedSearchCV\n",
        "from sklearn.ensemble import RandomForestClassifier\n",
        "from sklearn.preprocessing import LabelEncoder, StandardScaler\n",
        "from sklearn.metrics import accuracy_score, classification_report, confusion_matrix\n",
        "from imblearn.over_sampling import SMOTE\n"
      ],
      "metadata": {
        "id": "1O9bNMv8MHDh"
      },
      "execution_count": null,
      "outputs": []
    },
    {
      "cell_type": "code",
      "source": [
        "# Load the dataset\n",
        "dataset_path = \"/content/NPRI_2000-2022 (1).csv\"\n",
        "df_clean = pd.read_csv(dataset_path, encoding=\"ISO-8859-1\", nrows=10000)"
      ],
      "metadata": {
        "id": "vW68_wkLMPmo"
      },
      "execution_count": null,
      "outputs": []
    },
    {
      "cell_type": "markdown",
      "source": [
        "Loads the dataset from CSV.\n",
        "Limits rows to 10,000 to optimize performance."
      ],
      "metadata": {
        "id": "0M7wXYI4Osyy"
      }
    },
    {
      "cell_type": "code",
      "source": [
        "# Clean column names\n",
        "df_clean.columns = df_clean.columns.str.strip()"
      ],
      "metadata": {
        "id": "V2Wyq-W5MhnV"
      },
      "execution_count": null,
      "outputs": []
    },
    {
      "cell_type": "markdown",
      "source": [
        "Strips spaces from column names to avoid errors."
      ],
      "metadata": {
        "id": "kOtf3ytkOzCy"
      }
    },
    {
      "cell_type": "code",
      "source": [
        "# Convert Reporting Year to numeric format\n",
        "df_clean[\"Reporting_Year / Année\"] = pd.to_datetime(df_clean[\"Reporting_Year / Année\"], errors=\"coerce\")\n",
        "df_clean[\"Reporting_Year\"] = df_clean[\"Reporting_Year / Année\"].dt.year"
      ],
      "metadata": {
        "id": "2pQtga3VMl8s"
      },
      "execution_count": null,
      "outputs": []
    },
    {
      "cell_type": "markdown",
      "source": [
        "Converts \"Reporting_Year / Année\" to a numeric year format."
      ],
      "metadata": {
        "id": "K0aYT1riO5E2"
      }
    },
    {
      "cell_type": "markdown",
      "source": [
        "Feature Selection and Cleaning\n"
      ],
      "metadata": {
        "id": "U9ga8JRoO68l"
      }
    },
    {
      "cell_type": "code",
      "source": [
        "# Feature Selection\n",
        "relevant_columns = [\n",
        "    \"Reporting_Year\", \"NAICS / Code_SCIAN\", \"PROVINCE\",\n",
        "    \"Number of employees\", \"Release to Air - Stack / Point\"\n",
        "]\n",
        "\n",
        "# Drop missing values\n",
        "df_clean = df_clean[relevant_columns].dropna()"
      ],
      "metadata": {
        "id": "hNi69ViLMwp_"
      },
      "execution_count": null,
      "outputs": []
    },
    {
      "cell_type": "markdown",
      "source": [
        "Selects relevant features and removes rows with missing values"
      ],
      "metadata": {
        "id": "nGN6Mw-SPGtQ"
      }
    },
    {
      "cell_type": "markdown",
      "source": [
        "Defining Target Labels (Emission Categories)"
      ],
      "metadata": {
        "id": "xy1jX1LgPLRo"
      }
    },
    {
      "cell_type": "code",
      "source": [
        "# Define Classification Labels\n",
        "low_threshold = df_clean[\"Release to Air - Stack / Point\"].quantile(0.33)\n",
        "high_threshold = df_clean[\"Release to Air - Stack / Point\"].quantile(0.66)\n",
        "\n",
        "def classify_emissions(value):\n",
        "    if value <= low_threshold:\n",
        "        return 0  # Low\n",
        "    elif value <= high_threshold:\n",
        "        return 1  # Medium\n",
        "    else:\n",
        "        return 2  # High\n",
        "\n",
        "df_clean[\"Emission_Category\"] = df_clean[\"Release to Air - Stack / Point\"].apply(classify_emissions)\n",
        "\n"
      ],
      "metadata": {
        "id": "jEV_rQX_NBxo"
      },
      "execution_count": null,
      "outputs": []
    },
    {
      "cell_type": "markdown",
      "source": [
        "Splits emissions into three categories:\n",
        "0 (Low): Bottom 33% of emissions.\n",
        "1 (Medium): Middle 33%.\n",
        "2 (High): Top 33%.\n"
      ],
      "metadata": {
        "id": "ENPBYkEQPSXX"
      }
    },
    {
      "cell_type": "markdown",
      "source": [
        "Feature Engineering (Creating New Features)"
      ],
      "metadata": {
        "id": "Up6I3KX4Pw-6"
      }
    },
    {
      "cell_type": "code",
      "source": [
        "# Feature Engineering: Create new features\n",
        "df_clean[\"Log_Employees\"] = np.log1p(df_clean[\"Number of employees\"])  # Log transformation for skewed data\n",
        "df_clean[\"Emission_Per_Employee\"] = df_clean[\"Release to Air - Stack / Point\"] / df_clean[\"Number of employees\"]\n",
        "\n",
        "# Selecting final features\n",
        "X = df_clean.drop(columns=[\"Release to Air - Stack / Point\", \"Emission_Category\", \"Number of employees\"])\n",
        "y = df_clean[\"Emission_Category\"]"
      ],
      "metadata": {
        "id": "Rz_ZX7svPoRs"
      },
      "execution_count": null,
      "outputs": []
    },
    {
      "cell_type": "markdown",
      "source": [
        "Log transformation reduces the impact of extreme outliers in \"Number of employees\".\n",
        "Emission per employee is calculated as a new feature"
      ],
      "metadata": {
        "id": "cpUAyrhqQfR3"
      }
    },
    {
      "cell_type": "markdown",
      "source": [
        "# Encode categorical variables\n"
      ],
      "metadata": {
        "id": "oQ8nRvjCP5bm"
      }
    },
    {
      "cell_type": "code",
      "source": [
        "# Selecting final features\n",
        "X = df_clean.drop(columns=[\"Release to Air - Stack / Point\", \"Emission_Category\", \"Number of employees\"])\n",
        "y = df_clean[\"Emission_Category\"]\n",
        "# Encode categorical variables\n",
        "le = LabelEncoder()\n",
        "X[\"PROVINCE\"] = le.fit_transform(X[\"PROVINCE\"])\n",
        "\n"
      ],
      "metadata": {
        "id": "V2Nb9zFKNKpG"
      },
      "execution_count": null,
      "outputs": []
    },
    {
      "cell_type": "markdown",
      "source": [
        "Drops unnecessary columns before training.\n",
        "Converts province names into numbers (since ML models require numerical data)."
      ],
      "metadata": {
        "id": "sXU5YF1jRD8X"
      }
    },
    {
      "cell_type": "markdown",
      "source": [
        "Train-Test Split with Stratification"
      ],
      "metadata": {
        "id": "b3jZcZYnRKsB"
      }
    },
    {
      "cell_type": "code",
      "source": [
        "# Train-Test Split\n",
        "X_train, X_test, y_train, y_test = train_test_split(X, y, test_size=0.2, random_state=42, stratify=y)"
      ],
      "metadata": {
        "id": "WoNAvkRkRGN2"
      },
      "execution_count": null,
      "outputs": []
    },
    {
      "cell_type": "markdown",
      "source": [
        "Stratified split ensures all emission categories are evenly distributed in both training and test data."
      ],
      "metadata": {
        "id": "wSaxKkpWROtG"
      }
    },
    {
      "cell_type": "markdown",
      "source": [
        "Handling Class Imbalance (Using SMOTE)\n",
        "\n"
      ],
      "metadata": {
        "id": "1OifLhL0RUU_"
      }
    },
    {
      "cell_type": "code",
      "source": [
        "# Apply SMOTE to handle class imbalance\n",
        "smote = SMOTE(random_state=42)\n",
        "X_train, y_train = smote.fit_resample(X_train, y_train)\n",
        "\n",
        "# Standardize numerical features\n",
        "scaler = StandardScaler()\n",
        "X_train = scaler.fit_transform(X_train)\n",
        "X_test = scaler.transform(X_test)"
      ],
      "metadata": {
        "id": "GkOaVPr8RRPv"
      },
      "execution_count": null,
      "outputs": []
    },
    {
      "cell_type": "markdown",
      "source": [
        "SMOTE (Synthetic Minority Oversampling Technique) generates synthetic samples for underrepresented classes, preventing bias towards majority classes."
      ],
      "metadata": {
        "id": "UdjhwTWRReP8"
      }
    },
    {
      "cell_type": "markdown",
      "source": [
        "Feature Scaling"
      ],
      "metadata": {
        "id": "xFILrgwwRipv"
      }
    },
    {
      "cell_type": "code",
      "source": [
        "# Standardize numerical features\n",
        "scaler = StandardScaler()\n",
        "X_train = scaler.fit_transform(X_train)\n",
        "X_test = scaler.transform(X_test)"
      ],
      "metadata": {
        "id": "R7Bdf3ALRkeU"
      },
      "execution_count": null,
      "outputs": []
    },
    {
      "cell_type": "markdown",
      "source": [
        "Standardizes numerical features to improve training efficiency."
      ],
      "metadata": {
        "id": "d-oKkk9jRn9P"
      }
    },
    {
      "cell_type": "markdown",
      "source": [
        "Hyperparameter Tuning using RandomizedSearchCV"
      ],
      "metadata": {
        "id": "6DaRcvOTRsTs"
      }
    },
    {
      "cell_type": "code",
      "source": [
        "# Hyperparameter tuning using RandomizedSearchCV\n",
        "param_grid = {\n",
        "    'n_estimators': [100, 200, 300],\n",
        "    'max_depth': [10, 20, 30, None],\n",
        "    'min_samples_split': [2, 5, 10],\n",
        "    'min_samples_leaf': [1, 2, 4],\n",
        "    'max_features': ['sqrt', 'log2']\n",
        "}\n",
        "\n",
        "rf = RandomForestClassifier(random_state=42)\n",
        "\n",
        "rf_random = RandomizedSearchCV(estimator=rf, param_distributions=param_grid,\n",
        "                               n_iter=20, cv=3, verbose=2, random_state=42, n_jobs=-1)\n",
        "\n",
        "rf_random.fit(X_train, y_train)"
      ],
      "metadata": {
        "colab": {
          "base_uri": "https://localhost:8080/",
          "height": 183
        },
        "id": "uQfDXdc8LlcX",
        "outputId": "aae4a938-d607-43d3-c899-4960c1c33a06"
      },
      "execution_count": null,
      "outputs": [
        {
          "output_type": "stream",
          "name": "stdout",
          "text": [
            "Fitting 3 folds for each of 20 candidates, totalling 60 fits\n"
          ]
        },
        {
          "output_type": "execute_result",
          "data": {
            "text/plain": [
              "RandomizedSearchCV(cv=3, estimator=RandomForestClassifier(random_state=42),\n",
              "                   n_iter=20, n_jobs=-1,\n",
              "                   param_distributions={'max_depth': [10, 20, 30, None],\n",
              "                                        'max_features': ['sqrt', 'log2'],\n",
              "                                        'min_samples_leaf': [1, 2, 4],\n",
              "                                        'min_samples_split': [2, 5, 10],\n",
              "                                        'n_estimators': [100, 200, 300]},\n",
              "                   random_state=42, verbose=2)"
            ],
            "text/html": [
              "<style>#sk-container-id-1 {\n",
              "  /* Definition of color scheme common for light and dark mode */\n",
              "  --sklearn-color-text: #000;\n",
              "  --sklearn-color-text-muted: #666;\n",
              "  --sklearn-color-line: gray;\n",
              "  /* Definition of color scheme for unfitted estimators */\n",
              "  --sklearn-color-unfitted-level-0: #fff5e6;\n",
              "  --sklearn-color-unfitted-level-1: #f6e4d2;\n",
              "  --sklearn-color-unfitted-level-2: #ffe0b3;\n",
              "  --sklearn-color-unfitted-level-3: chocolate;\n",
              "  /* Definition of color scheme for fitted estimators */\n",
              "  --sklearn-color-fitted-level-0: #f0f8ff;\n",
              "  --sklearn-color-fitted-level-1: #d4ebff;\n",
              "  --sklearn-color-fitted-level-2: #b3dbfd;\n",
              "  --sklearn-color-fitted-level-3: cornflowerblue;\n",
              "\n",
              "  /* Specific color for light theme */\n",
              "  --sklearn-color-text-on-default-background: var(--sg-text-color, var(--theme-code-foreground, var(--jp-content-font-color1, black)));\n",
              "  --sklearn-color-background: var(--sg-background-color, var(--theme-background, var(--jp-layout-color0, white)));\n",
              "  --sklearn-color-border-box: var(--sg-text-color, var(--theme-code-foreground, var(--jp-content-font-color1, black)));\n",
              "  --sklearn-color-icon: #696969;\n",
              "\n",
              "  @media (prefers-color-scheme: dark) {\n",
              "    /* Redefinition of color scheme for dark theme */\n",
              "    --sklearn-color-text-on-default-background: var(--sg-text-color, var(--theme-code-foreground, var(--jp-content-font-color1, white)));\n",
              "    --sklearn-color-background: var(--sg-background-color, var(--theme-background, var(--jp-layout-color0, #111)));\n",
              "    --sklearn-color-border-box: var(--sg-text-color, var(--theme-code-foreground, var(--jp-content-font-color1, white)));\n",
              "    --sklearn-color-icon: #878787;\n",
              "  }\n",
              "}\n",
              "\n",
              "#sk-container-id-1 {\n",
              "  color: var(--sklearn-color-text);\n",
              "}\n",
              "\n",
              "#sk-container-id-1 pre {\n",
              "  padding: 0;\n",
              "}\n",
              "\n",
              "#sk-container-id-1 input.sk-hidden--visually {\n",
              "  border: 0;\n",
              "  clip: rect(1px 1px 1px 1px);\n",
              "  clip: rect(1px, 1px, 1px, 1px);\n",
              "  height: 1px;\n",
              "  margin: -1px;\n",
              "  overflow: hidden;\n",
              "  padding: 0;\n",
              "  position: absolute;\n",
              "  width: 1px;\n",
              "}\n",
              "\n",
              "#sk-container-id-1 div.sk-dashed-wrapped {\n",
              "  border: 1px dashed var(--sklearn-color-line);\n",
              "  margin: 0 0.4em 0.5em 0.4em;\n",
              "  box-sizing: border-box;\n",
              "  padding-bottom: 0.4em;\n",
              "  background-color: var(--sklearn-color-background);\n",
              "}\n",
              "\n",
              "#sk-container-id-1 div.sk-container {\n",
              "  /* jupyter's `normalize.less` sets `[hidden] { display: none; }`\n",
              "     but bootstrap.min.css set `[hidden] { display: none !important; }`\n",
              "     so we also need the `!important` here to be able to override the\n",
              "     default hidden behavior on the sphinx rendered scikit-learn.org.\n",
              "     See: https://github.com/scikit-learn/scikit-learn/issues/21755 */\n",
              "  display: inline-block !important;\n",
              "  position: relative;\n",
              "}\n",
              "\n",
              "#sk-container-id-1 div.sk-text-repr-fallback {\n",
              "  display: none;\n",
              "}\n",
              "\n",
              "div.sk-parallel-item,\n",
              "div.sk-serial,\n",
              "div.sk-item {\n",
              "  /* draw centered vertical line to link estimators */\n",
              "  background-image: linear-gradient(var(--sklearn-color-text-on-default-background), var(--sklearn-color-text-on-default-background));\n",
              "  background-size: 2px 100%;\n",
              "  background-repeat: no-repeat;\n",
              "  background-position: center center;\n",
              "}\n",
              "\n",
              "/* Parallel-specific style estimator block */\n",
              "\n",
              "#sk-container-id-1 div.sk-parallel-item::after {\n",
              "  content: \"\";\n",
              "  width: 100%;\n",
              "  border-bottom: 2px solid var(--sklearn-color-text-on-default-background);\n",
              "  flex-grow: 1;\n",
              "}\n",
              "\n",
              "#sk-container-id-1 div.sk-parallel {\n",
              "  display: flex;\n",
              "  align-items: stretch;\n",
              "  justify-content: center;\n",
              "  background-color: var(--sklearn-color-background);\n",
              "  position: relative;\n",
              "}\n",
              "\n",
              "#sk-container-id-1 div.sk-parallel-item {\n",
              "  display: flex;\n",
              "  flex-direction: column;\n",
              "}\n",
              "\n",
              "#sk-container-id-1 div.sk-parallel-item:first-child::after {\n",
              "  align-self: flex-end;\n",
              "  width: 50%;\n",
              "}\n",
              "\n",
              "#sk-container-id-1 div.sk-parallel-item:last-child::after {\n",
              "  align-self: flex-start;\n",
              "  width: 50%;\n",
              "}\n",
              "\n",
              "#sk-container-id-1 div.sk-parallel-item:only-child::after {\n",
              "  width: 0;\n",
              "}\n",
              "\n",
              "/* Serial-specific style estimator block */\n",
              "\n",
              "#sk-container-id-1 div.sk-serial {\n",
              "  display: flex;\n",
              "  flex-direction: column;\n",
              "  align-items: center;\n",
              "  background-color: var(--sklearn-color-background);\n",
              "  padding-right: 1em;\n",
              "  padding-left: 1em;\n",
              "}\n",
              "\n",
              "\n",
              "/* Toggleable style: style used for estimator/Pipeline/ColumnTransformer box that is\n",
              "clickable and can be expanded/collapsed.\n",
              "- Pipeline and ColumnTransformer use this feature and define the default style\n",
              "- Estimators will overwrite some part of the style using the `sk-estimator` class\n",
              "*/\n",
              "\n",
              "/* Pipeline and ColumnTransformer style (default) */\n",
              "\n",
              "#sk-container-id-1 div.sk-toggleable {\n",
              "  /* Default theme specific background. It is overwritten whether we have a\n",
              "  specific estimator or a Pipeline/ColumnTransformer */\n",
              "  background-color: var(--sklearn-color-background);\n",
              "}\n",
              "\n",
              "/* Toggleable label */\n",
              "#sk-container-id-1 label.sk-toggleable__label {\n",
              "  cursor: pointer;\n",
              "  display: flex;\n",
              "  width: 100%;\n",
              "  margin-bottom: 0;\n",
              "  padding: 0.5em;\n",
              "  box-sizing: border-box;\n",
              "  text-align: center;\n",
              "  align-items: start;\n",
              "  justify-content: space-between;\n",
              "  gap: 0.5em;\n",
              "}\n",
              "\n",
              "#sk-container-id-1 label.sk-toggleable__label .caption {\n",
              "  font-size: 0.6rem;\n",
              "  font-weight: lighter;\n",
              "  color: var(--sklearn-color-text-muted);\n",
              "}\n",
              "\n",
              "#sk-container-id-1 label.sk-toggleable__label-arrow:before {\n",
              "  /* Arrow on the left of the label */\n",
              "  content: \"▸\";\n",
              "  float: left;\n",
              "  margin-right: 0.25em;\n",
              "  color: var(--sklearn-color-icon);\n",
              "}\n",
              "\n",
              "#sk-container-id-1 label.sk-toggleable__label-arrow:hover:before {\n",
              "  color: var(--sklearn-color-text);\n",
              "}\n",
              "\n",
              "/* Toggleable content - dropdown */\n",
              "\n",
              "#sk-container-id-1 div.sk-toggleable__content {\n",
              "  max-height: 0;\n",
              "  max-width: 0;\n",
              "  overflow: hidden;\n",
              "  text-align: left;\n",
              "  /* unfitted */\n",
              "  background-color: var(--sklearn-color-unfitted-level-0);\n",
              "}\n",
              "\n",
              "#sk-container-id-1 div.sk-toggleable__content.fitted {\n",
              "  /* fitted */\n",
              "  background-color: var(--sklearn-color-fitted-level-0);\n",
              "}\n",
              "\n",
              "#sk-container-id-1 div.sk-toggleable__content pre {\n",
              "  margin: 0.2em;\n",
              "  border-radius: 0.25em;\n",
              "  color: var(--sklearn-color-text);\n",
              "  /* unfitted */\n",
              "  background-color: var(--sklearn-color-unfitted-level-0);\n",
              "}\n",
              "\n",
              "#sk-container-id-1 div.sk-toggleable__content.fitted pre {\n",
              "  /* unfitted */\n",
              "  background-color: var(--sklearn-color-fitted-level-0);\n",
              "}\n",
              "\n",
              "#sk-container-id-1 input.sk-toggleable__control:checked~div.sk-toggleable__content {\n",
              "  /* Expand drop-down */\n",
              "  max-height: 200px;\n",
              "  max-width: 100%;\n",
              "  overflow: auto;\n",
              "}\n",
              "\n",
              "#sk-container-id-1 input.sk-toggleable__control:checked~label.sk-toggleable__label-arrow:before {\n",
              "  content: \"▾\";\n",
              "}\n",
              "\n",
              "/* Pipeline/ColumnTransformer-specific style */\n",
              "\n",
              "#sk-container-id-1 div.sk-label input.sk-toggleable__control:checked~label.sk-toggleable__label {\n",
              "  color: var(--sklearn-color-text);\n",
              "  background-color: var(--sklearn-color-unfitted-level-2);\n",
              "}\n",
              "\n",
              "#sk-container-id-1 div.sk-label.fitted input.sk-toggleable__control:checked~label.sk-toggleable__label {\n",
              "  background-color: var(--sklearn-color-fitted-level-2);\n",
              "}\n",
              "\n",
              "/* Estimator-specific style */\n",
              "\n",
              "/* Colorize estimator box */\n",
              "#sk-container-id-1 div.sk-estimator input.sk-toggleable__control:checked~label.sk-toggleable__label {\n",
              "  /* unfitted */\n",
              "  background-color: var(--sklearn-color-unfitted-level-2);\n",
              "}\n",
              "\n",
              "#sk-container-id-1 div.sk-estimator.fitted input.sk-toggleable__control:checked~label.sk-toggleable__label {\n",
              "  /* fitted */\n",
              "  background-color: var(--sklearn-color-fitted-level-2);\n",
              "}\n",
              "\n",
              "#sk-container-id-1 div.sk-label label.sk-toggleable__label,\n",
              "#sk-container-id-1 div.sk-label label {\n",
              "  /* The background is the default theme color */\n",
              "  color: var(--sklearn-color-text-on-default-background);\n",
              "}\n",
              "\n",
              "/* On hover, darken the color of the background */\n",
              "#sk-container-id-1 div.sk-label:hover label.sk-toggleable__label {\n",
              "  color: var(--sklearn-color-text);\n",
              "  background-color: var(--sklearn-color-unfitted-level-2);\n",
              "}\n",
              "\n",
              "/* Label box, darken color on hover, fitted */\n",
              "#sk-container-id-1 div.sk-label.fitted:hover label.sk-toggleable__label.fitted {\n",
              "  color: var(--sklearn-color-text);\n",
              "  background-color: var(--sklearn-color-fitted-level-2);\n",
              "}\n",
              "\n",
              "/* Estimator label */\n",
              "\n",
              "#sk-container-id-1 div.sk-label label {\n",
              "  font-family: monospace;\n",
              "  font-weight: bold;\n",
              "  display: inline-block;\n",
              "  line-height: 1.2em;\n",
              "}\n",
              "\n",
              "#sk-container-id-1 div.sk-label-container {\n",
              "  text-align: center;\n",
              "}\n",
              "\n",
              "/* Estimator-specific */\n",
              "#sk-container-id-1 div.sk-estimator {\n",
              "  font-family: monospace;\n",
              "  border: 1px dotted var(--sklearn-color-border-box);\n",
              "  border-radius: 0.25em;\n",
              "  box-sizing: border-box;\n",
              "  margin-bottom: 0.5em;\n",
              "  /* unfitted */\n",
              "  background-color: var(--sklearn-color-unfitted-level-0);\n",
              "}\n",
              "\n",
              "#sk-container-id-1 div.sk-estimator.fitted {\n",
              "  /* fitted */\n",
              "  background-color: var(--sklearn-color-fitted-level-0);\n",
              "}\n",
              "\n",
              "/* on hover */\n",
              "#sk-container-id-1 div.sk-estimator:hover {\n",
              "  /* unfitted */\n",
              "  background-color: var(--sklearn-color-unfitted-level-2);\n",
              "}\n",
              "\n",
              "#sk-container-id-1 div.sk-estimator.fitted:hover {\n",
              "  /* fitted */\n",
              "  background-color: var(--sklearn-color-fitted-level-2);\n",
              "}\n",
              "\n",
              "/* Specification for estimator info (e.g. \"i\" and \"?\") */\n",
              "\n",
              "/* Common style for \"i\" and \"?\" */\n",
              "\n",
              ".sk-estimator-doc-link,\n",
              "a:link.sk-estimator-doc-link,\n",
              "a:visited.sk-estimator-doc-link {\n",
              "  float: right;\n",
              "  font-size: smaller;\n",
              "  line-height: 1em;\n",
              "  font-family: monospace;\n",
              "  background-color: var(--sklearn-color-background);\n",
              "  border-radius: 1em;\n",
              "  height: 1em;\n",
              "  width: 1em;\n",
              "  text-decoration: none !important;\n",
              "  margin-left: 0.5em;\n",
              "  text-align: center;\n",
              "  /* unfitted */\n",
              "  border: var(--sklearn-color-unfitted-level-1) 1pt solid;\n",
              "  color: var(--sklearn-color-unfitted-level-1);\n",
              "}\n",
              "\n",
              ".sk-estimator-doc-link.fitted,\n",
              "a:link.sk-estimator-doc-link.fitted,\n",
              "a:visited.sk-estimator-doc-link.fitted {\n",
              "  /* fitted */\n",
              "  border: var(--sklearn-color-fitted-level-1) 1pt solid;\n",
              "  color: var(--sklearn-color-fitted-level-1);\n",
              "}\n",
              "\n",
              "/* On hover */\n",
              "div.sk-estimator:hover .sk-estimator-doc-link:hover,\n",
              ".sk-estimator-doc-link:hover,\n",
              "div.sk-label-container:hover .sk-estimator-doc-link:hover,\n",
              ".sk-estimator-doc-link:hover {\n",
              "  /* unfitted */\n",
              "  background-color: var(--sklearn-color-unfitted-level-3);\n",
              "  color: var(--sklearn-color-background);\n",
              "  text-decoration: none;\n",
              "}\n",
              "\n",
              "div.sk-estimator.fitted:hover .sk-estimator-doc-link.fitted:hover,\n",
              ".sk-estimator-doc-link.fitted:hover,\n",
              "div.sk-label-container:hover .sk-estimator-doc-link.fitted:hover,\n",
              ".sk-estimator-doc-link.fitted:hover {\n",
              "  /* fitted */\n",
              "  background-color: var(--sklearn-color-fitted-level-3);\n",
              "  color: var(--sklearn-color-background);\n",
              "  text-decoration: none;\n",
              "}\n",
              "\n",
              "/* Span, style for the box shown on hovering the info icon */\n",
              ".sk-estimator-doc-link span {\n",
              "  display: none;\n",
              "  z-index: 9999;\n",
              "  position: relative;\n",
              "  font-weight: normal;\n",
              "  right: .2ex;\n",
              "  padding: .5ex;\n",
              "  margin: .5ex;\n",
              "  width: min-content;\n",
              "  min-width: 20ex;\n",
              "  max-width: 50ex;\n",
              "  color: var(--sklearn-color-text);\n",
              "  box-shadow: 2pt 2pt 4pt #999;\n",
              "  /* unfitted */\n",
              "  background: var(--sklearn-color-unfitted-level-0);\n",
              "  border: .5pt solid var(--sklearn-color-unfitted-level-3);\n",
              "}\n",
              "\n",
              ".sk-estimator-doc-link.fitted span {\n",
              "  /* fitted */\n",
              "  background: var(--sklearn-color-fitted-level-0);\n",
              "  border: var(--sklearn-color-fitted-level-3);\n",
              "}\n",
              "\n",
              ".sk-estimator-doc-link:hover span {\n",
              "  display: block;\n",
              "}\n",
              "\n",
              "/* \"?\"-specific style due to the `<a>` HTML tag */\n",
              "\n",
              "#sk-container-id-1 a.estimator_doc_link {\n",
              "  float: right;\n",
              "  font-size: 1rem;\n",
              "  line-height: 1em;\n",
              "  font-family: monospace;\n",
              "  background-color: var(--sklearn-color-background);\n",
              "  border-radius: 1rem;\n",
              "  height: 1rem;\n",
              "  width: 1rem;\n",
              "  text-decoration: none;\n",
              "  /* unfitted */\n",
              "  color: var(--sklearn-color-unfitted-level-1);\n",
              "  border: var(--sklearn-color-unfitted-level-1) 1pt solid;\n",
              "}\n",
              "\n",
              "#sk-container-id-1 a.estimator_doc_link.fitted {\n",
              "  /* fitted */\n",
              "  border: var(--sklearn-color-fitted-level-1) 1pt solid;\n",
              "  color: var(--sklearn-color-fitted-level-1);\n",
              "}\n",
              "\n",
              "/* On hover */\n",
              "#sk-container-id-1 a.estimator_doc_link:hover {\n",
              "  /* unfitted */\n",
              "  background-color: var(--sklearn-color-unfitted-level-3);\n",
              "  color: var(--sklearn-color-background);\n",
              "  text-decoration: none;\n",
              "}\n",
              "\n",
              "#sk-container-id-1 a.estimator_doc_link.fitted:hover {\n",
              "  /* fitted */\n",
              "  background-color: var(--sklearn-color-fitted-level-3);\n",
              "}\n",
              "</style><div id=\"sk-container-id-1\" class=\"sk-top-container\"><div class=\"sk-text-repr-fallback\"><pre>RandomizedSearchCV(cv=3, estimator=RandomForestClassifier(random_state=42),\n",
              "                   n_iter=20, n_jobs=-1,\n",
              "                   param_distributions={&#x27;max_depth&#x27;: [10, 20, 30, None],\n",
              "                                        &#x27;max_features&#x27;: [&#x27;sqrt&#x27;, &#x27;log2&#x27;],\n",
              "                                        &#x27;min_samples_leaf&#x27;: [1, 2, 4],\n",
              "                                        &#x27;min_samples_split&#x27;: [2, 5, 10],\n",
              "                                        &#x27;n_estimators&#x27;: [100, 200, 300]},\n",
              "                   random_state=42, verbose=2)</pre><b>In a Jupyter environment, please rerun this cell to show the HTML representation or trust the notebook. <br />On GitHub, the HTML representation is unable to render, please try loading this page with nbviewer.org.</b></div><div class=\"sk-container\" hidden><div class=\"sk-item sk-dashed-wrapped\"><div class=\"sk-label-container\"><div class=\"sk-label fitted sk-toggleable\"><input class=\"sk-toggleable__control sk-hidden--visually\" id=\"sk-estimator-id-1\" type=\"checkbox\" ><label for=\"sk-estimator-id-1\" class=\"sk-toggleable__label fitted sk-toggleable__label-arrow\"><div><div>RandomizedSearchCV</div></div><div><a class=\"sk-estimator-doc-link fitted\" rel=\"noreferrer\" target=\"_blank\" href=\"https://scikit-learn.org/1.6/modules/generated/sklearn.model_selection.RandomizedSearchCV.html\">?<span>Documentation for RandomizedSearchCV</span></a><span class=\"sk-estimator-doc-link fitted\">i<span>Fitted</span></span></div></label><div class=\"sk-toggleable__content fitted\"><pre>RandomizedSearchCV(cv=3, estimator=RandomForestClassifier(random_state=42),\n",
              "                   n_iter=20, n_jobs=-1,\n",
              "                   param_distributions={&#x27;max_depth&#x27;: [10, 20, 30, None],\n",
              "                                        &#x27;max_features&#x27;: [&#x27;sqrt&#x27;, &#x27;log2&#x27;],\n",
              "                                        &#x27;min_samples_leaf&#x27;: [1, 2, 4],\n",
              "                                        &#x27;min_samples_split&#x27;: [2, 5, 10],\n",
              "                                        &#x27;n_estimators&#x27;: [100, 200, 300]},\n",
              "                   random_state=42, verbose=2)</pre></div> </div></div><div class=\"sk-parallel\"><div class=\"sk-parallel-item\"><div class=\"sk-item\"><div class=\"sk-label-container\"><div class=\"sk-label fitted sk-toggleable\"><input class=\"sk-toggleable__control sk-hidden--visually\" id=\"sk-estimator-id-2\" type=\"checkbox\" ><label for=\"sk-estimator-id-2\" class=\"sk-toggleable__label fitted sk-toggleable__label-arrow\"><div><div>best_estimator_: RandomForestClassifier</div></div></label><div class=\"sk-toggleable__content fitted\"><pre>RandomForestClassifier(max_features=&#x27;log2&#x27;, n_estimators=200, random_state=42)</pre></div> </div></div><div class=\"sk-serial\"><div class=\"sk-item\"><div class=\"sk-estimator fitted sk-toggleable\"><input class=\"sk-toggleable__control sk-hidden--visually\" id=\"sk-estimator-id-3\" type=\"checkbox\" ><label for=\"sk-estimator-id-3\" class=\"sk-toggleable__label fitted sk-toggleable__label-arrow\"><div><div>RandomForestClassifier</div></div><div><a class=\"sk-estimator-doc-link fitted\" rel=\"noreferrer\" target=\"_blank\" href=\"https://scikit-learn.org/1.6/modules/generated/sklearn.ensemble.RandomForestClassifier.html\">?<span>Documentation for RandomForestClassifier</span></a></div></label><div class=\"sk-toggleable__content fitted\"><pre>RandomForestClassifier(max_features=&#x27;log2&#x27;, n_estimators=200, random_state=42)</pre></div> </div></div></div></div></div></div></div></div></div>"
            ]
          },
          "metadata": {},
          "execution_count": 38
        }
      ]
    },
    {
      "cell_type": "markdown",
      "source": [
        "Training the Best Model"
      ],
      "metadata": {
        "id": "2IxV7fybR8fA"
      }
    },
    {
      "cell_type": "code",
      "source": [
        "# Best model after hyperparameter tuning\n",
        "best_model = rf_random.best_estimator_\n",
        "\n",
        "# Predictions\n",
        "y_pred = best_model.predict(X_test)"
      ],
      "metadata": {
        "id": "1oWQHU7dR5bv"
      },
      "execution_count": null,
      "outputs": []
    },
    {
      "cell_type": "markdown",
      "source": [
        "Evaluating Model Performance"
      ],
      "metadata": {
        "id": "ra7yMTyRSFaE"
      }
    },
    {
      "cell_type": "code",
      "source": [
        "# Evaluate Model\n",
        "accuracy = accuracy_score(y_test, y_pred)\n",
        "classification_rep = classification_report(y_test, y_pred)\n",
        "conf_matrix = confusion_matrix(y_test, y_pred)\n",
        "\n",
        "# Display results\n",
        "print(f\"Optimized Model Accuracy: {accuracy:.2f}\")\n",
        "print(\"Classification Report:\\n\", classification_rep)"
      ],
      "metadata": {
        "colab": {
          "base_uri": "https://localhost:8080/"
        },
        "id": "k5WF77COSEtV",
        "outputId": "d8d9c3cf-4b65-4e9e-e4b7-ada98aa5a480"
      },
      "execution_count": null,
      "outputs": [
        {
          "output_type": "stream",
          "name": "stdout",
          "text": [
            "Optimized Model Accuracy: 0.98\n",
            "Classification Report:\n",
            "               precision    recall  f1-score   support\n",
            "\n",
            "           0       0.99      0.99      0.99       336\n",
            "           1       0.98      0.96      0.97       335\n",
            "           2       0.97      0.99      0.98       346\n",
            "\n",
            "    accuracy                           0.98      1017\n",
            "   macro avg       0.98      0.98      0.98      1017\n",
            "weighted avg       0.98      0.98      0.98      1017\n",
            "\n"
          ]
        }
      ]
    },
    {
      "cell_type": "markdown",
      "source": [
        "Visualizing Confusion Matrix"
      ],
      "metadata": {
        "id": "JYzJNWJsSMKH"
      }
    },
    {
      "cell_type": "code",
      "source": [
        "# Plot confusion matrix\n",
        "plt.figure(figsize=(6, 5))\n",
        "sns.heatmap(conf_matrix, annot=True, fmt=\"d\", cmap=\"Blues\", xticklabels=[\"Low\", \"Medium\", \"High\"], yticklabels=[\"Low\", \"Medium\", \"High\"])\n",
        "plt.xlabel(\"Predicted\")\n",
        "plt.ylabel(\"Actual\")\n",
        "plt.title(\"Optimized Confusion Matrix\")\n",
        "plt.show()"
      ],
      "metadata": {
        "colab": {
          "base_uri": "https://localhost:8080/",
          "height": 487
        },
        "id": "KH5HqT-4MWZn",
        "outputId": "457badc3-6e25-4fd8-c650-333f66b65705"
      },
      "execution_count": null,
      "outputs": [
        {
          "output_type": "display_data",
          "data": {
            "text/plain": [
              "<Figure size 600x500 with 2 Axes>"
            ],
            "image/png": "[encoded data removed]"
          },
          "metadata": {}
        }
      ]
    },
    {
      "cell_type": "code",
      "source": [
        "# Ensure df_clean is defined\n",
        "df_clean = df.copy()  # Create a copy of df or load it again if necessary\n",
        "\n",
        "# Ensure 'Reporting_Year / Année' is in datetime format\n",
        "df_clean['Reporting_Year / Année'] = pd.to_datetime(df_clean['Reporting_Year / Année'], format='%Y', errors='coerce')\n",
        "\n",
        "# Sort data by year to ensure it's in chronological order for time series analysis\n",
        "df_clean = df_clean.sort_values(by='Reporting_Year / Année')\n",
        "\n",
        "# Create time-based features (year, month, and quarter)\n",
        "df_clean['Year'] = df_clean['Reporting_Year / Année'].dt.year\n",
        "df_clean['Month'] = df_clean['Reporting_Year / Année'].dt.month\n",
        "df_clean['Quarter'] = df_clean['Reporting_Year / Année'].dt.quarter\n",
        "\n",
        "# Create lag features (previous years' releases)\n",
        "df_clean['Lag_1'] = df_clean['Release to Air - Fugitive'].shift(1)  # Previous year's release\n",
        "df_clean['Lag_2'] = df_clean['Release to Air - Fugitive'].shift(2)  # Two years ago\n",
        "df_clean['Lag_3'] = df_clean['Release to Air - Fugitive'].shift(3)  # Three years ago\n",
        "\n",
        "# Create rolling average for the last 3 years\n",
        "df_clean['3_year_rolling_avg'] = df_clean['Release to Air - Fugitive'].rolling(window=3).mean()\n",
        "\n",
        "# Handle missing values in rolling features by filling with median (or other strategy)\n",
        "df_clean['3_year_rolling_avg'].fillna(df_clean['3_year_rolling_avg'].median(), inplace=True)\n",
        "\n",
        "# Drop rows with NaN values in the target and lag features (as they are critical for prediction)\n",
        "df_clean.dropna(subset=['Release to Air - Fugitive', 'Lag_1', 'Lag_2', 'Lag_3'], inplace=True)\n",
        "\n",
        "# Check the refined dataset\n",
        "df_clean.head()\n"
      ],
      "metadata": {
        "colab": {
          "base_uri": "https://localhost:8080/",
          "height": 510
        },
        "id": "RCp03Gnwx4Fh",
        "outputId": "f88fe5bc-00c1-4474-f11b-59787f3c04af"
      },
      "execution_count": null,
      "outputs": [
        {
          "output_type": "stream",
          "name": "stderr",
          "text": [
            "<ipython-input-42-1248420bf4a5>:24: FutureWarning: A value is trying to be set on a copy of a DataFrame or Series through chained assignment using an inplace method.\n",
            "The behavior will change in pandas 3.0. This inplace method will never work because the intermediate object on which we are setting values always behaves as a copy.\n",
            "\n",
            "For example, when doing 'df[col].method(value, inplace=True)', try using 'df.method({col: value}, inplace=True)' or df[col] = df[col].method(value) instead, to perform the operation inplace on the original object.\n",
            "\n",
            "\n",
            "  df_clean['3_year_rolling_avg'].fillna(df_clean['3_year_rolling_avg'].median(), inplace=True)\n"
          ]
        },
        {
          "output_type": "execute_result",
          "data": {
            "text/plain": [
              "     Reporting_Year / Année  NPRI_ID / No_INRP  Number of employees  \\\n",
              "6226             2000-01-01               3903                  355   \n",
              "6227             2000-01-01               3903                  355   \n",
              "6228             2000-01-01               3903                  355   \n",
              "6222             2000-01-01               3903                  355   \n",
              "6229             2000-01-01               3903                  355   \n",
              "\n",
              "     Company_Name / Dénomination_sociale_de_l'entreprise  \\\n",
              "6226                                       PETRO-CANADA    \n",
              "6227                                       PETRO-CANADA    \n",
              "6228                                       PETRO-CANADA    \n",
              "6222                                       PETRO-CANADA    \n",
              "6229                                       PETRO-CANADA    \n",
              "\n",
              "     Facility_Name / Installation  NAICS / Code_SCIAN  \\\n",
              "6226            Edmonton Refinery              324110   \n",
              "6227            Edmonton Refinery              324110   \n",
              "6228            Edmonton Refinery              324110   \n",
              "6222            Edmonton Refinery              324110   \n",
              "6229            Edmonton Refinery              324110   \n",
              "\n",
              "     NAICS Title / Titre Code_SCIAN PROVINCE           City  Latitude  \\\n",
              "6226           Petroleum refineries       AB  Sherwood Park   53.5505   \n",
              "6227           Petroleum refineries       AB  Sherwood Park   53.5505   \n",
              "6228           Petroleum refineries       AB  Sherwood Park   53.5505   \n",
              "6222           Petroleum refineries       AB  Sherwood Park   53.5505   \n",
              "6229           Petroleum refineries       AB  Sherwood Park   53.5505   \n",
              "\n",
              "      Longitude CAS_Number / No_CAS  \\\n",
              "6226  -113.3589            194-59-2   \n",
              "6227  -113.3589            198-55-0   \n",
              "6228  -113.3589            205-82-3   \n",
              "6222  -113.3589            189-55-9   \n",
              "6229  -113.3589            205-99-2   \n",
              "\n",
              "     Substance Name (English) / Nom de substance (Anglais) Units / Unités  \\\n",
              "6226                           7H-Dibenzo[c,g]carbazole                kg   \n",
              "6227                                           Perylene                kg   \n",
              "6228                               Benzo[j]fluoranthene                kg   \n",
              "6222                                 Dibenzo[a,i]pyrene                kg   \n",
              "6229                               Benzo[b]fluoranthene                kg   \n",
              "\n",
              "     Estimation_Method / Méthode_destimation  Release to Air - Fugitive  \\\n",
              "6226                      E - Emission Factor                      0.004   \n",
              "6227                      E - Emission Factor                      0.140   \n",
              "6228                      E - Emission Factor                      0.100   \n",
              "6222                      E - Emission Factor                      0.037   \n",
              "6229                      E - Emission Factor                      0.100   \n",
              "\n",
              "      Release to Air - Other Non-Point   Release to Air - Road dust    \\\n",
              "6226                                NaN                           NaN   \n",
              "6227                                NaN                           NaN   \n",
              "6228                                NaN                           NaN   \n",
              "6222                                NaN                           NaN   \n",
              "6229                                NaN                           NaN   \n",
              "\n",
              "      Release to Air - Spills   Release to Air - Stack / Point    \\\n",
              "6226                       NaN                               NaN   \n",
              "6227                       NaN                               NaN   \n",
              "6228                       NaN                               NaN   \n",
              "6222                       NaN                               NaN   \n",
              "6229                       NaN                               NaN   \n",
              "\n",
              "      Release to Air - Storage / Handling   Releases to Land - Leaks  \\\n",
              "6226                                   NaN                       NaN   \n",
              "6227                                   NaN                       NaN   \n",
              "6228                                   NaN                       NaN   \n",
              "6222                                   NaN                       NaN   \n",
              "6229                                   NaN                       NaN   \n",
              "\n",
              "      Releases to Land - Other   Releases to Land - Spills   \\\n",
              "6226                        NaN                         NaN   \n",
              "6227                        NaN                         NaN   \n",
              "6228                        NaN                         NaN   \n",
              "6222                        NaN                         NaN   \n",
              "6229                        NaN                         NaN   \n",
              "\n",
              "      Releases to Water Bodies - Direct Discharges   \\\n",
              "6226                                            NaN   \n",
              "6227                                            NaN   \n",
              "6228                                            NaN   \n",
              "6222                                            NaN   \n",
              "6229                                            NaN   \n",
              "\n",
              "      Releases to Water Bodies - Leaks  Releases to Water Bodies - Spills   \\\n",
              "6226                               NaN                                 NaN   \n",
              "6227                               NaN                                 NaN   \n",
              "6228                               NaN                                 NaN   \n",
              "6222                               NaN                                 NaN   \n",
              "6229                               NaN                                 NaN   \n",
              "\n",
              "      Sum of release to all media (<1tonne)  Year  Month  Quarter  Lag_1  \\\n",
              "6226                                    NaN  2000      1        1  0.213   \n",
              "6227                                    NaN  2000      1        1  0.004   \n",
              "6228                                    NaN  2000      1        1  0.140   \n",
              "6222                                    NaN  2000      1        1  0.100   \n",
              "6229                                    NaN  2000      1        1  0.037   \n",
              "\n",
              "      Lag_2  Lag_3  3_year_rolling_avg  \n",
              "6226  0.200  0.292            0.139000  \n",
              "6227  0.213  0.200            0.119000  \n",
              "6228  0.004  0.213            0.081333  \n",
              "6222  0.140  0.004            0.092333  \n",
              "6229  0.100  0.140            0.079000  "
            ],
            "text/html": [
              "\n",
              "  <div id=\"df-08010e03-222c-4646-b5ee-b77eef595224\" class=\"colab-df-container\">\n",
              "    <div>\n",
              "<style scoped>\n",
              "    .dataframe tbody tr th:only-of-type {\n",
              "        vertical-align: middle;\n",
              "    }\n",
              "\n",
              "    .dataframe tbody tr th {\n",
              "        vertical-align: top;\n",
              "    }\n",
              "\n",
              "    .dataframe thead th {\n",
              "        text-align: right;\n",
              "    }\n",
              "</style>\n",
              "<table border=\"1\" class=\"dataframe\">\n",
              "  <thead>\n",
              "    <tr style=\"text-align: right;\">\n",
              "      <th></th>\n",
              "      <th>Reporting_Year / Année</th>\n",
              "      <th>NPRI_ID / No_INRP</th>\n",
              "      <th>Number of employees</th>\n",
              "      <th>Company_Name / Dénomination_sociale_de_l'entreprise</th>\n",
              "      <th>Facility_Name / Installation</th>\n",
              "      <th>NAICS / Code_SCIAN</th>\n",
              "      <th>NAICS Title / Titre Code_SCIAN</th>\n",
              "      <th>PROVINCE</th>\n",
              "      <th>City</th>\n",
              "      <th>Latitude</th>\n",
              "      <th>Longitude</th>\n",
              "      <th>CAS_Number / No_CAS</th>\n",
              "      <th>Substance Name (English) / Nom de substance (Anglais)</th>\n",
              "      <th>Units / Unités</th>\n",
              "      <th>Estimation_Method / Méthode_destimation</th>\n",
              "      <th>Release to Air - Fugitive</th>\n",
              "      <th>Release to Air - Other Non-Point</th>\n",
              "      <th>Release to Air - Road dust</th>\n",
              "      <th>Release to Air - Spills</th>\n",
              "      <th>Release to Air - Stack / Point</th>\n",
              "      <th>Release to Air - Storage / Handling</th>\n",
              "      <th>Releases to Land - Leaks</th>\n",
              "      <th>Releases to Land - Other</th>\n",
              "      <th>Releases to Land - Spills</th>\n",
              "      <th>Releases to Water Bodies - Direct Discharges</th>\n",
              "      <th>Releases to Water Bodies - Leaks</th>\n",
              "      <th>Releases to Water Bodies - Spills</th>\n",
              "      <th>Sum of release to all media (&lt;1tonne)</th>\n",
              "      <th>Year</th>\n",
              "      <th>Month</th>\n",
              "      <th>Quarter</th>\n",
              "      <th>Lag_1</th>\n",
              "      <th>Lag_2</th>\n",
              "      <th>Lag_3</th>\n",
              "      <th>3_year_rolling_avg</th>\n",
              "    </tr>\n",
              "  </thead>\n",
              "  <tbody>\n",
              "    <tr>\n",
              "      <th>6226</th>\n",
              "      <td>2000-01-01</td>\n",
              "      <td>3903</td>\n",
              "      <td>355</td>\n",
              "      <td>PETRO-CANADA</td>\n",
              "      <td>Edmonton Refinery</td>\n",
              "      <td>324110</td>\n",
              "      <td>Petroleum refineries</td>\n",
              "      <td>AB</td>\n",
              "      <td>Sherwood Park</td>\n",
              "      <td>53.5505</td>\n",
              "      <td>-113.3589</td>\n",
              "      <td>194-59-2</td>\n",
              "      <td>7H-Dibenzo[c,g]carbazole</td>\n",
              "      <td>kg</td>\n",
              "      <td>E - Emission Factor</td>\n",
              "      <td>0.004</td>\n",
              "      <td>NaN</td>\n",
              "      <td>NaN</td>\n",
              "      <td>NaN</td>\n",
              "      <td>NaN</td>\n",
              "      <td>NaN</td>\n",
              "      <td>NaN</td>\n",
              "      <td>NaN</td>\n",
              "      <td>NaN</td>\n",
              "      <td>NaN</td>\n",
              "      <td>NaN</td>\n",
              "      <td>NaN</td>\n",
              "      <td>NaN</td>\n",
              "      <td>2000</td>\n",
              "      <td>1</td>\n",
              "      <td>1</td>\n",
              "      <td>0.213</td>\n",
              "      <td>0.200</td>\n",
              "      <td>0.292</td>\n",
              "      <td>0.139000</td>\n",
              "    </tr>\n",
              "    <tr>\n",
              "      <th>6227</th>\n",
              "      <td>2000-01-01</td>\n",
              "      <td>3903</td>\n",
              "      <td>355</td>\n",
              "      <td>PETRO-CANADA</td>\n",
              "      <td>Edmonton Refinery</td>\n",
              "      <td>324110</td>\n",
              "      <td>Petroleum refineries</td>\n",
              "      <td>AB</td>\n",
              "      <td>Sherwood Park</td>\n",
              "      <td>53.5505</td>\n",
              "      <td>-113.3589</td>\n",
              "      <td>198-55-0</td>\n",
              "      <td>Perylene</td>\n",
              "      <td>kg</td>\n",
              "      <td>E - Emission Factor</td>\n",
              "      <td>0.140</td>\n",
              "      <td>NaN</td>\n",
              "      <td>NaN</td>\n",
              "      <td>NaN</td>\n",
              "      <td>NaN</td>\n",
              "      <td>NaN</td>\n",
              "      <td>NaN</td>\n",
              "      <td>NaN</td>\n",
              "      <td>NaN</td>\n",
              "      <td>NaN</td>\n",
              "      <td>NaN</td>\n",
              "      <td>NaN</td>\n",
              "      <td>NaN</td>\n",
              "      <td>2000</td>\n",
              "      <td>1</td>\n",
              "      <td>1</td>\n",
              "      <td>0.004</td>\n",
              "      <td>0.213</td>\n",
              "      <td>0.200</td>\n",
              "      <td>0.119000</td>\n",
              "    </tr>\n",
              "    <tr>\n",
              "      <th>6228</th>\n",
              "      <td>2000-01-01</td>\n",
              "      <td>3903</td>\n",
              "      <td>355</td>\n",
              "      <td>PETRO-CANADA</td>\n",
              "      <td>Edmonton Refinery</td>\n",
              "      <td>324110</td>\n",
              "      <td>Petroleum refineries</td>\n",
              "      <td>AB</td>\n",
              "      <td>Sherwood Park</td>\n",
              "      <td>53.5505</td>\n",
              "      <td>-113.3589</td>\n",
              "      <td>205-82-3</td>\n",
              "      <td>Benzo[j]fluoranthene</td>\n",
              "      <td>kg</td>\n",
              "      <td>E - Emission Factor</td>\n",
              "      <td>0.100</td>\n",
              "      <td>NaN</td>\n",
              "      <td>NaN</td>\n",
              "      <td>NaN</td>\n",
              "      <td>NaN</td>\n",
              "      <td>NaN</td>\n",
              "      <td>NaN</td>\n",
              "      <td>NaN</td>\n",
              "      <td>NaN</td>\n",
              "      <td>NaN</td>\n",
              "      <td>NaN</td>\n",
              "      <td>NaN</td>\n",
              "      <td>NaN</td>\n",
              "      <td>2000</td>\n",
              "      <td>1</td>\n",
              "      <td>1</td>\n",
              "      <td>0.140</td>\n",
              "      <td>0.004</td>\n",
              "      <td>0.213</td>\n",
              "      <td>0.081333</td>\n",
              "    </tr>\n",
              "    <tr>\n",
              "      <th>6222</th>\n",
              "      <td>2000-01-01</td>\n",
              "      <td>3903</td>\n",
              "      <td>355</td>\n",
              "      <td>PETRO-CANADA</td>\n",
              "      <td>Edmonton Refinery</td>\n",
              "      <td>324110</td>\n",
              "      <td>Petroleum refineries</td>\n",
              "      <td>AB</td>\n",
              "      <td>Sherwood Park</td>\n",
              "      <td>53.5505</td>\n",
              "      <td>-113.3589</td>\n",
              "      <td>189-55-9</td>\n",
              "      <td>Dibenzo[a,i]pyrene</td>\n",
              "      <td>kg</td>\n",
              "      <td>E - Emission Factor</td>\n",
              "      <td>0.037</td>\n",
              "      <td>NaN</td>\n",
              "      <td>NaN</td>\n",
              "      <td>NaN</td>\n",
              "      <td>NaN</td>\n",
              "      <td>NaN</td>\n",
              "      <td>NaN</td>\n",
              "      <td>NaN</td>\n",
              "      <td>NaN</td>\n",
              "      <td>NaN</td>\n",
              "      <td>NaN</td>\n",
              "      <td>NaN</td>\n",
              "      <td>NaN</td>\n",
              "      <td>2000</td>\n",
              "      <td>1</td>\n",
              "      <td>1</td>\n",
              "      <td>0.100</td>\n",
              "      <td>0.140</td>\n",
              "      <td>0.004</td>\n",
              "      <td>0.092333</td>\n",
              "    </tr>\n",
              "    <tr>\n",
              "      <th>6229</th>\n",
              "      <td>2000-01-01</td>\n",
              "      <td>3903</td>\n",
              "      <td>355</td>\n",
              "      <td>PETRO-CANADA</td>\n",
              "      <td>Edmonton Refinery</td>\n",
              "      <td>324110</td>\n",
              "      <td>Petroleum refineries</td>\n",
              "      <td>AB</td>\n",
              "      <td>Sherwood Park</td>\n",
              "      <td>53.5505</td>\n",
              "      <td>-113.3589</td>\n",
              "      <td>205-99-2</td>\n",
              "      <td>Benzo[b]fluoranthene</td>\n",
              "      <td>kg</td>\n",
              "      <td>E - Emission Factor</td>\n",
              "      <td>0.100</td>\n",
              "      <td>NaN</td>\n",
              "      <td>NaN</td>\n",
              "      <td>NaN</td>\n",
              "      <td>NaN</td>\n",
              "      <td>NaN</td>\n",
              "      <td>NaN</td>\n",
              "      <td>NaN</td>\n",
              "      <td>NaN</td>\n",
              "      <td>NaN</td>\n",
              "      <td>NaN</td>\n",
              "      <td>NaN</td>\n",
              "      <td>NaN</td>\n",
              "      <td>2000</td>\n",
              "      <td>1</td>\n",
              "      <td>1</td>\n",
              "      <td>0.037</td>\n",
              "      <td>0.100</td>\n",
              "      <td>0.140</td>\n",
              "      <td>0.079000</td>\n",
              "    </tr>\n",
              "  </tbody>\n",
              "</table>\n",
              "</div>\n",
              "    <div class=\"colab-df-buttons\">\n",
              "\n",
              "  <div class=\"colab-df-container\">\n",
              "    <button class=\"colab-df-convert\" onclick=\"convertToInteractive('df-08010e03-222c-4646-b5ee-b77eef595224')\"\n",
              "            title=\"Convert this dataframe to an interactive table.\"\n",
              "            style=\"display:none;\">\n",
              "\n",
              "  <svg xmlns=\"http://www.w3.org/2000/svg\" height=\"24px\" viewBox=\"0 -960 960 960\">\n",
              "    <path d=\"M120-120v-720h720v720H120Zm60-500h600v-160H180v160Zm220 220h160v-160H400v160Zm0 220h160v-160H400v160ZM180-400h160v-160H180v160Zm440 0h160v-160H620v160ZM180-180h160v-160H180v160Zm440 0h160v-160H620v160Z\"/>\n",
              "  </svg>\n",
              "    </button>\n",
              "\n",
              "  <style>\n",
              "    .colab-df-container {\n",
              "      display:flex;\n",
              "      gap: 12px;\n",
              "    }\n",
              "\n",
              "    .colab-df-convert {\n",
              "      background-color: #E8F0FE;\n",
              "      border: none;\n",
              "      border-radius: 50%;\n",
              "      cursor: pointer;\n",
              "      display: none;\n",
              "      fill: #1967D2;\n",
              "      height: 32px;\n",
              "      padding: 0 0 0 0;\n",
              "      width: 32px;\n",
              "    }\n",
              "\n",
              "    .colab-df-convert:hover {\n",
              "      background-color: #E2EBFA;\n",
              "      box-shadow: 0px 1px 2px rgba(60, 64, 67, 0.3), 0px 1px 3px 1px rgba(60, 64, 67, 0.15);\n",
              "      fill: #174EA6;\n",
              "    }\n",
              "\n",
              "    .colab-df-buttons div {\n",
              "      margin-bottom: 4px;\n",
              "    }\n",
              "\n",
              "    [theme=dark] .colab-df-convert {\n",
              "      background-color: #3B4455;\n",
              "      fill: #D2E3FC;\n",
              "    }\n",
              "\n",
              "    [theme=dark] .colab-df-convert:hover {\n",
              "      background-color: #434B5C;\n",
              "      box-shadow: 0px 1px 3px 1px rgba(0, 0, 0, 0.15);\n",
              "      filter: drop-shadow(0px 1px 2px rgba(0, 0, 0, 0.3));\n",
              "      fill: #FFFFFF;\n",
              "    }\n",
              "  </style>\n",
              "\n",
              "    <script>\n",
              "      const buttonEl =\n",
              "        document.querySelector('#df-08010e03-222c-4646-b5ee-b77eef595224 button.colab-df-convert');\n",
              "      buttonEl.style.display =\n",
              "        google.colab.kernel.accessAllowed ? 'block' : 'none';\n",
              "\n",
              "      async function convertToInteractive(key) {\n",
              "        const element = document.querySelector('#df-08010e03-222c-4646-b5ee-b77eef595224');\n",
              "        const dataTable =\n",
              "          await google.colab.kernel.invokeFunction('convertToInteractive',\n",
              "                                                    [key], {});\n",
              "        if (!dataTable) return;\n",
              "\n",
              "        const docLinkHtml = 'Like what you see? Visit the ' +\n",
              "          '<a target=\"_blank\" href=https://colab.research.google.com/notebooks/data_table.ipynb>data table notebook</a>'\n",
              "          + ' to learn more about interactive tables.';\n",
              "        element.innerHTML = '';\n",
              "        dataTable['output_type'] = 'display_data';\n",
              "        await google.colab.output.renderOutput(dataTable, element);\n",
              "        const docLink = document.createElement('div');\n",
              "        docLink.innerHTML = docLinkHtml;\n",
              "        element.appendChild(docLink);\n",
              "      }\n",
              "    </script>\n",
              "  </div>\n",
              "\n",
              "\n",
              "<div id=\"df-1730b58f-805d-460e-8e42-f32d7d71bbbf\">\n",
              "  <button class=\"colab-df-quickchart\" onclick=\"quickchart('df-1730b58f-805d-460e-8e42-f32d7d71bbbf')\"\n",
              "            title=\"Suggest charts\"\n",
              "            style=\"display:none;\">\n",
              "\n",
              "<svg xmlns=\"http://www.w3.org/2000/svg\" height=\"24px\"viewBox=\"0 0 24 24\"\n",
              "     width=\"24px\">\n",
              "    <g>\n",
              "        <path d=\"M19 3H5c-1.1 0-2 .9-2 2v14c0 1.1.9 2 2 2h14c1.1 0 2-.9 2-2V5c0-1.1-.9-2-2-2zM9 17H7v-7h2v7zm4 0h-2V7h2v10zm4 0h-2v-4h2v4z\"/>\n",
              "    </g>\n",
              "</svg>\n",
              "  </button>\n",
              "\n",
              "<style>\n",
              "  .colab-df-quickchart {\n",
              "      --bg-color: #E8F0FE;\n",
              "      --fill-color: #1967D2;\n",
              "      --hover-bg-color: #E2EBFA;\n",
              "      --hover-fill-color: #174EA6;\n",
              "      --disabled-fill-color: #AAA;\n",
              "      --disabled-bg-color: #DDD;\n",
              "  }\n",
              "\n",
              "  [theme=dark] .colab-df-quickchart {\n",
              "      --bg-color: #3B4455;\n",
              "      --fill-color: #D2E3FC;\n",
              "      --hover-bg-color: #434B5C;\n",
              "      --hover-fill-color: #FFFFFF;\n",
              "      --disabled-bg-color: #3B4455;\n",
              "      --disabled-fill-color: #666;\n",
              "  }\n",
              "\n",
              "  .colab-df-quickchart {\n",
              "    background-color: var(--bg-color);\n",
              "    border: none;\n",
              "    border-radius: 50%;\n",
              "    cursor: pointer;\n",
              "    display: none;\n",
              "    fill: var(--fill-color);\n",
              "    height: 32px;\n",
              "    padding: 0;\n",
              "    width: 32px;\n",
              "  }\n",
              "\n",
              "  .colab-df-quickchart:hover {\n",
              "    background-color: var(--hover-bg-color);\n",
              "    box-shadow: 0 1px 2px rgba(60, 64, 67, 0.3), 0 1px 3px 1px rgba(60, 64, 67, 0.15);\n",
              "    fill: var(--button-hover-fill-color);\n",
              "  }\n",
              "\n",
              "  .colab-df-quickchart-complete:disabled,\n",
              "  .colab-df-quickchart-complete:disabled:hover {\n",
              "    background-color: var(--disabled-bg-color);\n",
              "    fill: var(--disabled-fill-color);\n",
              "    box-shadow: none;\n",
              "  }\n",
              "\n",
              "  .colab-df-spinner {\n",
              "    border: 2px solid var(--fill-color);\n",
              "    border-color: transparent;\n",
              "    border-bottom-color: var(--fill-color);\n",
              "    animation:\n",
              "      spin 1s steps(1) infinite;\n",
              "  }\n",
              "\n",
              "  @keyframes spin {\n",
              "    0% {\n",
              "      border-color: transparent;\n",
              "      border-bottom-color: var(--fill-color);\n",
              "      border-left-color: var(--fill-color);\n",
              "    }\n",
              "    20% {\n",
              "      border-color: transparent;\n",
              "      border-left-color: var(--fill-color);\n",
              "      border-top-color: var(--fill-color);\n",
              "    }\n",
              "    30% {\n",
              "      border-color: transparent;\n",
              "      border-left-color: var(--fill-color);\n",
              "      border-top-color: var(--fill-color);\n",
              "      border-right-color: var(--fill-color);\n",
              "    }\n",
              "    40% {\n",
              "      border-color: transparent;\n",
              "      border-right-color: var(--fill-color);\n",
              "      border-top-color: var(--fill-color);\n",
              "    }\n",
              "    60% {\n",
              "      border-color: transparent;\n",
              "      border-right-color: var(--fill-color);\n",
              "    }\n",
              "    80% {\n",
              "      border-color: transparent;\n",
              "      border-right-color: var(--fill-color);\n",
              "      border-bottom-color: var(--fill-color);\n",
              "    }\n",
              "    90% {\n",
              "      border-color: transparent;\n",
              "      border-bottom-color: var(--fill-color);\n",
              "    }\n",
              "  }\n",
              "</style>\n",
              "\n",
              "  <script>\n",
              "    async function quickchart(key) {\n",
              "      const quickchartButtonEl =\n",
              "        document.querySelector('#' + key + ' button');\n",
              "      quickchartButtonEl.disabled = true;  // To prevent multiple clicks.\n",
              "      quickchartButtonEl.classList.add('colab-df-spinner');\n",
              "      try {\n",
              "        const charts = await google.colab.kernel.invokeFunction(\n",
              "            'suggestCharts', [key], {});\n",
              "      } catch (error) {\n",
              "        console.error('Error during call to suggestCharts:', error);\n",
              "      }\n",
              "      quickchartButtonEl.classList.remove('colab-df-spinner');\n",
              "      quickchartButtonEl.classList.add('colab-df-quickchart-complete');\n",
              "    }\n",
              "    (() => {\n",
              "      let quickchartButtonEl =\n",
              "        document.querySelector('#df-1730b58f-805d-460e-8e42-f32d7d71bbbf button');\n",
              "      quickchartButtonEl.style.display =\n",
              "        google.colab.kernel.accessAllowed ? 'block' : 'none';\n",
              "    })();\n",
              "  </script>\n",
              "</div>\n",
              "\n",
              "    </div>\n",
              "  </div>\n"
            ],
            "application/vnd.google.colaboratory.intrinsic+json": {
              "type": "dataframe",
              "variable_name": "df_clean"
            }
          },
          "metadata": {},
          "execution_count": 42
        }
      ]
    },
    {
      "cell_type": "markdown",
      "source": [
        "The code prepares a time series dataset for analysis and modeling by first creating a clean copy of the original data. It converts the 'Reporting_Year / Année' column into datetime format to enable time-based operations and then sorts the data chronologically. New features such as year, month, and quarter are extracted to support further analysis. To capture historical patterns, the code generates lag features representing the previous one, two, and three years of the 'Release to Air - Fugitive' values. A 3-year rolling average is also calculated to smooth fluctuations and highlight trends. Any missing values in the rolling average are filled using the median to maintain consistency. Finally, rows with missing values in key columns are dropped to ensure the dataset is ready for accurate and reliable predictions."
      ],
      "metadata": {
        "id": "cru4jLQs5mOY"
      }
    },
    {
      "cell_type": "code",
      "source": [
        "from sklearn.linear_model import LinearRegression\n",
        "from sklearn.model_selection import train_test_split\n",
        "from sklearn.metrics import mean_squared_error, r2_score\n",
        "\n",
        "# Define the features (X) and target variable (y)\n",
        "X = df[['Year', 'Month', 'Quarter', 'Lag_1', 'Lag_2', 'Lag_3', '3_year_rolling_avg']]  # Features\n",
        "y = df['Release to Air - Fugitive']  # Target variable\n",
        "\n",
        "# Split the data into training and testing sets (80-20 split)\n",
        "X_train, X_test, y_train, y_test = train_test_split(X, y, test_size=0.2, random_state=42)\n",
        "\n",
        "# Initialize the Linear Regression model\n",
        "lr_model = LinearRegression()\n",
        "\n",
        "# Train the model\n",
        "lr_model.fit(X_train, y_train)\n",
        "\n",
        "# Make predictions\n",
        "y_pred_lr = lr_model.predict(X_test)\n",
        "\n",
        "# Evaluate the model performance\n",
        "rmse_lr = np.sqrt(mean_squared_error(y_test, y_pred_lr))\n",
        "r2_lr = r2_score(y_test, y_pred_lr)\n",
        "\n",
        "print(f\"Linear Regression RMSE: {rmse_lr}\")\n",
        "print(f\"Linear Regression R^2: {r2_lr}\")\n"
      ],
      "metadata": {
        "colab": {
          "base_uri": "https://localhost:8080/"
        },
        "id": "GZwwFRqvLmXD",
        "outputId": "23e0a6c8-bd69-4e2d-de2b-1836fa2267a5"
      },
      "execution_count": null,
      "outputs": [
        {
          "output_type": "stream",
          "name": "stdout",
          "text": [
            "Linear Regression RMSE: 1.9987692855173502e-12\n",
            "Linear Regression R^2: 1.0\n"
          ]
        }
      ]
    },
    {
      "cell_type": "markdown",
      "source": [
        "This code trains a Linear Regression model to predict air pollution levels using past values (lags), time features (year, month, quarter), and a 3-year rolling average. It splits the data into training and testing sets, fits the model, makes predictions, and evaluates performance using RMSE (error) and R² (accuracy).RMSE: 1.9987692855173502e-12 and R^2: 1.0."
      ],
      "metadata": {
        "id": "ySfS_0cQ5y6r"
      }
    },
    {
      "cell_type": "code",
      "source": [
        "from sklearn.ensemble import RandomForestRegressor\n",
        "\n",
        "# Initialize the Random Forest model\n",
        "rf_model = RandomForestRegressor(n_estimators=100, random_state=42)\n",
        "\n",
        "# Train the model\n",
        "rf_model.fit(X_train, y_train)\n",
        "\n",
        "# Make predictions\n",
        "y_pred_rf = rf_model.predict(X_test)\n",
        "\n",
        "# Evaluate the model performance\n",
        "rmse_rf = np.sqrt(mean_squared_error(y_test, y_pred_rf))\n",
        "r2_rf = r2_score(y_test, y_pred_rf)\n",
        "\n",
        "print(f\"Random Forest RMSE: {rmse_rf}\")\n",
        "print(f\"Random Forest R^2: {r2_rf}\")\n"
      ],
      "metadata": {
        "colab": {
          "base_uri": "https://localhost:8080/"
        },
        "id": "RvRgbYFOMYom",
        "outputId": "78ed9883-0949-488d-a0df-f71a9b5380c8"
      },
      "execution_count": null,
      "outputs": [
        {
          "output_type": "stream",
          "name": "stdout",
          "text": [
            "Random Forest RMSE: 166.7068805469964\n",
            "Random Forest R^2: 0.8594053761437599\n"
          ]
        }
      ]
    },
    {
      "cell_type": "markdown",
      "source": [
        "This code uses a Random Forest Regressor to predict air pollution levels. It trains the model using historical and time-based features, makes predictions on the test data, and evaluates performance using RMSE (prediction error) and R² (accuracy of fit). Random Forest improves prediction by combining multiple decision trees for better accuracy and robustness.RMSE: 166.7068805469964 and R^2: 0.8594053761437599"
      ],
      "metadata": {
        "id": "UIKRvJ6K50Vq"
      }
    },
    {
      "cell_type": "code",
      "source": [
        "import xgboost as xgb\n",
        "\n",
        "# Initialize the XGBoost model\n",
        "xgb_model = xgb.XGBRegressor(n_estimators=100, random_state=42)\n",
        "\n",
        "# Train the model\n",
        "xgb_model.fit(X_train, y_train)\n",
        "\n",
        "# Make predictions\n",
        "y_pred_xgb = xgb_model.predict(X_test)\n",
        "\n",
        "# Evaluate the model performance\n",
        "rmse_xgb = np.sqrt(mean_squared_error(y_test, y_pred_xgb))\n",
        "r2_xgb = r2_score(y_test, y_pred_xgb)\n",
        "\n",
        "print(f\"XGBoost RMSE: {rmse_xgb}\")\n",
        "print(f\"XGBoost R^2: {r2_xgb}\")\n"
      ],
      "metadata": {
        "colab": {
          "base_uri": "https://localhost:8080/"
        },
        "id": "rhMXqYGhMhl6",
        "outputId": "8c768f26-2b9d-42c7-c83d-2dca091a2f9c"
      },
      "execution_count": null,
      "outputs": [
        {
          "output_type": "stream",
          "name": "stdout",
          "text": [
            "XGBoost RMSE: 407.74809412249124\n",
            "XGBoost R^2: 0.15890404620662013\n"
          ]
        }
      ]
    },
    {
      "cell_type": "markdown",
      "source": [
        "This code builds an XGBoost regression model to predict air pollution levels. It trains the model using time-based and historical features, makes predictions on the test set, and evaluates performance using RMSE (error) and R² (explained variance). XGBoost is a powerful and efficient boosting algorithm known for delivering high accuracy in regression tasks.RMSE: 407.74809412249124 and R^2: 0.15890404620662013"
      ],
      "metadata": {
        "id": "S4suULA2555P"
      }
    },
    {
      "cell_type": "markdown",
      "source": [
        "Conclusion:\n",
        "\n",
        "Random Forest is the best performing model among the three, as it provides a good balance of accuracy and reasonable error metrics (R² = 0.86 and RMSE = 166.71).\n",
        "\n",
        "The Linear Regression model has perfect scores, but this could be a result of overfitting or data leakage, so it might not generalize well.\n",
        "\n",
        "The XGBoost model is performing poorly, as indicated by its high RMSE and low R², and likely requires further tuning or feature engineering to improve.\n"
      ],
      "metadata": {
        "id": "0GOd7l3B5-R6"
      }
    },
    {
      "cell_type": "code",
      "source": [
        "# Average the predictions from all models\n",
        "final_predictions = (y_pred_lr + y_pred_rf + y_pred_xgb) / 3\n",
        "\n",
        "# Evaluate the final model\n",
        "final_rmse = np.sqrt(mean_squared_error(y_test, final_predictions))\n",
        "final_r2 = r2_score(y_test, final_predictions)\n",
        "\n",
        "print(f\"Final Model RMSE (Average of all models): {final_rmse}\")\n",
        "print(f\"Final Model R^2 (Average of all models): {final_r2}\")\n"
      ],
      "metadata": {
        "colab": {
          "base_uri": "https://localhost:8080/"
        },
        "id": "JMDCMJ6CMo5K",
        "outputId": "21b04953-a904-46f7-cf72-60279fa1975a"
      },
      "execution_count": null,
      "outputs": [
        {
          "output_type": "stream",
          "name": "stdout",
          "text": [
            "Final Model RMSE (Average of all models): 173.61216335372998\n",
            "Final Model R^2 (Average of all models): 0.8475168125141945\n"
          ]
        }
      ]
    },
    {
      "cell_type": "markdown",
      "source": [
        "This code averages the predictions from three models — Linear Regression, Random Forest, and XGBoost — to create an ensemble prediction. It then evaluates the combined result using RMSE and R² scores. This technique helps to reduce individual model biases and can lead to better overall accuracy and stability in the final prediction.RMSE (Average of all models): 173.61216335372998 and R^2 (Average of all models): 0.8475168125141945"
      ],
      "metadata": {
        "id": "K55Zaw336IxV"
      }
    },
    {
      "cell_type": "code",
      "source": [
        "from sklearn.model_selection import RandomizedSearchCV, train_test_split\n",
        "from sklearn.ensemble import RandomForestRegressor\n",
        "from sklearn.metrics import mean_squared_error, r2_score\n",
        "import numpy as np\n",
        "\n",
        "# Assuming you have large data (X, y), you can use a sample of the data for faster tuning.\n",
        "# If you want to use the full dataset, skip the next two lines.\n",
        "X_train_sample, _, y_train_sample, _ = train_test_split(X_train, y_train, test_size=0.9, random_state=42)\n",
        "\n",
        "# Define the model\n",
        "rf_model = RandomForestRegressor(random_state=42)\n",
        "\n",
        "# Define the parameter distribution to sample from\n",
        "param_dist = {\n",
        "    'n_estimators': [100, 200, 300],  # Number of trees (reduce for faster search)\n",
        "    'max_depth': [None, 10, 20, 30],   # Depth of each tree\n",
        "    'min_samples_split': [2, 5, 10],   # Min samples to split a node\n",
        "    'min_samples_leaf': [1, 2, 4],     # Min samples at a leaf node\n",
        "    'max_features': ['auto', 'sqrt'],  # Number of features to consider at each split\n",
        "    'bootstrap': [True, False]         # Whether to use bootstrap samples\n",
        "}\n",
        "\n",
        "# Initialize RandomizedSearchCV\n",
        "random_search = RandomizedSearchCV(estimator=rf_model, param_distributions=param_dist,\n",
        "                                   n_iter=50, cv=3, n_jobs=-1, verbose=2, scoring='neg_mean_squared_error',\n",
        "                                   random_state=42, refit=True)\n",
        "\n",
        "# Fit the random search on the sample data\n",
        "random_search.fit(X_train_sample, y_train_sample)\n",
        "\n",
        "# Get the best hyperparameters\n",
        "print(\"Best parameters:\", random_search.best_params_)\n",
        "\n",
        "# Use the best model found by RandomizedSearchCV to make predictions\n",
        "best_rf_model = random_search.best_estimator_\n",
        "y_pred = best_rf_model.predict(X_test)\n",
        "\n",
        "# Evaluate the model\n",
        "print(f\"R²: {r2_score(y_test, y_pred)}\")\n",
        "print(f\"Mean Squared Error: {mean_squared_error(y_test, y_pred)}\")\n"
      ],
      "metadata": {
        "colab": {
          "base_uri": "https://localhost:8080/"
        },
        "id": "-jEQZbCm8kXl",
        "outputId": "b93070cc-8a95-48a2-8966-d463f92bbbae"
      },
      "execution_count": null,
      "outputs": [
        {
          "output_type": "stream",
          "name": "stdout",
          "text": [
            "Fitting 3 folds for each of 50 candidates, totalling 150 fits\n"
          ]
        },
        {
          "output_type": "stream",
          "name": "stderr",
          "text": [
            "/usr/local/lib/python3.11/dist-packages/sklearn/model_selection/_validation.py:528: FitFailedWarning: \n",
            "75 fits failed out of a total of 150.\n",
            "The score on these train-test partitions for these parameters will be set to nan.\n",
            "If these failures are not expected, you can try to debug them by setting error_score='raise'.\n",
            "\n",
            "Below are more details about the failures:\n",
            "--------------------------------------------------------------------------------\n",
            "75 fits failed with the following error:\n",
            "Traceback (most recent call last):\n",
            "  File \"/usr/local/lib/python3.11/dist-packages/sklearn/model_selection/_validation.py\", line 866, in _fit_and_score\n",
            "    estimator.fit(X_train, y_train, **fit_params)\n",
            "  File \"/usr/local/lib/python3.11/dist-packages/sklearn/base.py\", line 1382, in wrapper\n",
            "    estimator._validate_params()\n",
            "  File \"/usr/local/lib/python3.11/dist-packages/sklearn/base.py\", line 436, in _validate_params\n",
            "    validate_parameter_constraints(\n",
            "  File \"/usr/local/lib/python3.11/dist-packages/sklearn/utils/_param_validation.py\", line 98, in validate_parameter_constraints\n",
            "    raise InvalidParameterError(\n",
            "sklearn.utils._param_validation.InvalidParameterError: The 'max_features' parameter of RandomForestRegressor must be an int in the range [1, inf), a float in the range (0.0, 1.0], a str among {'sqrt', 'log2'} or None. Got 'auto' instead.\n",
            "\n",
            "  warnings.warn(some_fits_failed_message, FitFailedWarning)\n",
            "/usr/local/lib/python3.11/dist-packages/sklearn/model_selection/_search.py:1108: UserWarning: One or more of the test scores are non-finite: [-1078598.53321079               nan               nan -1036376.4339802\n",
            "               nan               nan -1369659.80829082  -992988.29687964\n",
            " -1028479.54129654 -1056157.103495   -1000085.07254746               nan\n",
            " -1060405.25402639               nan -1058172.74063454               nan\n",
            "               nan               nan               nan               nan\n",
            "               nan               nan -1083180.94911267               nan\n",
            "               nan               nan  -992988.29687964               nan\n",
            " -1056766.02949069 -1079488.61216566               nan               nan\n",
            " -1050730.65907696 -1058861.22102475 -1078598.53321079               nan\n",
            " -1077593.12802413 -1007987.20607963 -1072585.96514717 -1077863.94004687\n",
            " -1033357.26753486 -1004261.30162512               nan               nan\n",
            " -1028479.54135761               nan -1005147.27325164               nan\n",
            " -1077998.57722863               nan]\n",
            "  warnings.warn(\n"
          ]
        },
        {
          "output_type": "stream",
          "name": "stdout",
          "text": [
            "Best parameters: {'n_estimators': 200, 'min_samples_split': 2, 'min_samples_leaf': 4, 'max_features': 'sqrt', 'max_depth': 20, 'bootstrap': True}\n",
            "R²: 0.19274402030837556\n",
            "Mean Squared Error: 159569.39795347955\n"
          ]
        }
      ]
    },
    {
      "cell_type": "markdown",
      "source": [
        "This code performs hyperparameter tuning on a Random Forest Regressor using RandomizedSearchCV to improve prediction accuracy efficiently. Here's a short explanation:\n",
        "\n",
        "First takes a small sample of the training data (10%) to speed up the tuning process. It then defines a set of hyperparameters (like number of trees, tree depth, and split criteria) and uses RandomizedSearchCV to randomly test different combinations across 3-fold cross-validation. Once the best combination of hyperparameters is found, the model is retrained using those settings and used to predict on the test set. Finally, the model's performance is evaluated using R² (explained variance) and Mean Squared Error to assess accuracy."
      ],
      "metadata": {
        "id": "XT3nK9oK6OH9"
      }
    }
  ]
}